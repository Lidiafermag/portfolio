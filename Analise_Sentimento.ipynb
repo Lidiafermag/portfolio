{
 "cells": [
  {
   "cell_type": "markdown",
   "metadata": {
    "colab_type": "text",
    "id": "rGhaGxTsV25-"
   },
   "source": [
    "# **Projeto Twitter - Recuperação da Informação na Web**\n",
    "\n",
    "Para a realização deste projeto foram coletados twiteer com citações xxxx"
   ]
  },
  {
   "cell_type": "markdown",
   "metadata": {
    "colab_type": "text",
    "id": "m1-6L9OloEk4"
   },
   "source": [
    "# Importar bibliotecas"
   ]
  },
  {
   "cell_type": "code",
   "execution_count": 3,
   "metadata": {
    "colab": {
     "base_uri": "https://localhost:8080/",
     "height": 245
    },
    "colab_type": "code",
    "id": "NCrwalSIV26B",
    "outputId": "d91c950b-7309-496f-8e2d-ff116bed5b91",
    "tags": []
   },
   "outputs": [
    {
     "name": "stderr",
     "output_type": "stream",
     "text": [
      "[nltk_data] Downloading package stopwords to\n",
      "[nltk_data]     C:\\Users\\Lídia\\AppData\\Roaming\\nltk_data...\n",
      "[nltk_data]   Package stopwords is already up-to-date!\n",
      "[nltk_data] Downloading package rslp to\n",
      "[nltk_data]     C:\\Users\\Lídia\\AppData\\Roaming\\nltk_data...\n",
      "[nltk_data]   Package rslp is already up-to-date!\n",
      "[nltk_data] Downloading package stopwords to\n",
      "[nltk_data]     C:\\Users\\Lídia\\AppData\\Roaming\\nltk_data...\n",
      "[nltk_data]   Package stopwords is already up-to-date!\n",
      "[nltk_data] Downloading package rslp to\n",
      "[nltk_data]     C:\\Users\\Lídia\\AppData\\Roaming\\nltk_data...\n",
      "[nltk_data]   Package rslp is already up-to-date!\n",
      "[nltk_data] Downloading package punkt to\n",
      "[nltk_data]     C:\\Users\\Lídia\\AppData\\Roaming\\nltk_data...\n",
      "[nltk_data]   Package punkt is already up-to-date!\n",
      "[nltk_data] Downloading package wordnet to\n",
      "[nltk_data]     C:\\Users\\Lídia\\AppData\\Roaming\\nltk_data...\n",
      "[nltk_data]   Package wordnet is already up-to-date!\n"
     ]
    }
   ],
   "source": [
    "#Bibliotecas \n",
    "import tweepy\n",
    "import pandas as pd     \n",
    "import numpy as np \n",
    "import time\n",
    "import os\n",
    "import re\n",
    "\n",
    "\n",
    "#Visualização\n",
    "from IPython.display import display\n",
    "import matplotlib.pyplot as plt\n",
    "import seaborn as sns\n",
    "from wordcloud import WordCloud, ImageColorGenerator, STOPWORDS\n",
    "%matplotlib inline\n",
    "\n",
    "#Classificação de sentimento\n",
    "from textblob import TextBlob\n",
    "from textblob import TextBlob\n",
    "from textblob.classifiers import NaiveBayesClassifier\n",
    "\n",
    "# Linguagem natural\n",
    "import nltk\n",
    "from sklearn.feature_extraction.text import CountVectorizer\n",
    "from sklearn.naive_bayes import MultinomialNB\n",
    "from sklearn.pipeline import Pipeline\n",
    "from sklearn import metrics\n",
    "from sklearn.model_selection import cross_val_predict\n",
    "\n",
    "nltk.download('stopwords')\n",
    "nltk.download('rslp')\n",
    "nltk.download('stopwords')\n",
    "nltk.download('rslp')\n",
    "nltk.download('punkt')\n",
    "nltk.download('wordnet')\n",
    "\n",
    "#Mapas\n",
    "from geopy.geocoders import Nominatim\n",
    "import folium\n",
    "from folium import plugins\n",
    "from geopy.geocoders import Nominatim\n"
   ]
  },
  {
   "cell_type": "code",
   "execution_count": 4,
   "metadata": {},
   "outputs": [
    {
     "name": "stdout",
     "output_type": "stream",
     "text": [
      "Requirement already satisfied: geopy in c:\\programdata\\anaconda3\\lib\\site-packages (2.0.0)\n",
      "Requirement already satisfied: geographiclib<2,>=1.49 in c:\\programdata\\anaconda3\\lib\\site-packages (from geopy) (1.50)\n",
      "Note: you may need to restart the kernel to use updated packages.\n"
     ]
    }
   ],
   "source": [
    "pip install geopy"
   ]
  },
  {
   "cell_type": "code",
   "execution_count": 5,
   "metadata": {
    "colab": {},
    "colab_type": "code",
    "id": "d-y6BxyGV26O"
   },
   "outputs": [],
   "source": [
    "from pathlib import Path"
   ]
  },
  {
   "cell_type": "markdown",
   "metadata": {
    "colab_type": "text",
    "id": "muyAn4W6V26Y"
   },
   "source": [
    "Autenticando no Twitter"
   ]
  },
  {
   "cell_type": "code",
   "execution_count": 6,
   "metadata": {
    "colab": {},
    "colab_type": "code",
    "id": "ZIKSOsRlV26Z"
   },
   "outputs": [],
   "source": [
    "consumer_key        ='URTcfheoZ6QAjyieAXeBiFipo'\n",
    "consumer_secret     ='AN81u9ZapIO5k4i0gVpQwVP0WTYzApSiX2aIC9C7oMTtXGPbHx'\n",
    "\n",
    "access_token        ='1196924142903349248-bexqw6e33RVl9Prz4aWR7m3LIELsB8'\n",
    "access_token_secret ='vk5hVxCMvUTz1O4k0AXTqPKnDahwUDfeLs0u9Uk7pgatj'"
   ]
  },
  {
   "cell_type": "markdown",
   "metadata": {
    "colab_type": "text",
    "id": "r3c67e-3JFqB"
   },
   "source": [
    "# **Tweepy**\n",
    "\n",
    "O tweepy é uma biblioteca python que nos permite acessar facilmente a API do Twitter."
   ]
  },
  {
   "cell_type": "code",
   "execution_count": 7,
   "metadata": {
    "colab": {},
    "colab_type": "code",
    "id": "nPcL6pGFV26i"
   },
   "outputs": [],
   "source": [
    "auth = tweepy.OAuthHandler(consumer_key,consumer_secret)\n",
    "auth.set_access_token(access_token,access_token_secret)"
   ]
  },
  {
   "cell_type": "code",
   "execution_count": 8,
   "metadata": {
    "colab": {},
    "colab_type": "code",
    "id": "H48CfWgMV28s"
   },
   "outputs": [],
   "source": [
    "api = tweepy.API(auth,wait_on_rate_limit=True)"
   ]
  },
  {
   "cell_type": "markdown",
   "metadata": {
    "colab_type": "text",
    "id": "rA7d777gV280"
   },
   "source": [
    "Nesta etapa iremos realizar a busca do termo escolhido para que possamos analisar."
   ]
  },
  {
   "cell_type": "code",
   "execution_count": 9,
   "metadata": {
    "colab": {},
    "colab_type": "code",
    "id": "6KjhqIKXV281"
   },
   "outputs": [],
   "source": [
    "tweets = []\n",
    "info = []\n",
    "\n",
    "for tweet in tweepy.Cursor(api.search,\n",
    "                           q=\"queimadas\" or \"pantanal\",\n",
    "                           tweet_mode='extended',\n",
    "                           rpp=100,\n",
    "                           result_type=\"popular\",\n",
    "                           include_entities=True,\n",
    "                           lang=\"pt\").items(1500):\n",
    "    if 'retweeted_status' in dir(tweet):\n",
    "        aux=tweet.retweeted_status.full_text\n",
    "    else:\n",
    "        aux=tweet.full_text\n",
    "        \n",
    "    newtweet = aux.replace(\"\\n\", \" \")\n",
    "   \n",
    "    tweets.append(newtweet)\n",
    "    info.append(tweet)\n",
    "    \n",
    "    file = open(\"TweetsQueimadas.txt\", \"a\", -1, \"utf-8\")\n",
    "    file.write(newtweet+'\\n')\n",
    "    file.close()\n",
    "    \n",
    "    time.sleep(0.5)"
   ]
  },
  {
   "cell_type": "code",
   "execution_count": 10,
   "metadata": {
    "colab": {
     "base_uri": "https://localhost:8080/",
     "height": 768
    },
    "colab_type": "code",
    "id": "3FYISAJeV29B",
    "outputId": "358cad63-5e96-45f3-9c3d-eda9616c55cc",
    "tags": []
   },
   "outputs": [
    {
     "name": "stdout",
     "output_type": "stream",
     "text": [
      "Balanço da Semana: Cidades+Verdes CAU / Cadastro Ambiental Rural Audiência Pública  Combate às Queimadas no Pantanal https://t.co/KLfpRsMOs5\n",
      "Mesmo com os focos de incêndio que acometem o Pantanal e outros biomas brasileiros, a área queimada em todo o território nacional é a menor dos últimos 18 anos. Dados do @inpe_mct revelam que 2007 foi o ano em que o Brasil mais sofreu com as queimadas. https://t.co/3CMD2YZdA4\n",
      "As queimadas não são novidade. Felizmente, a situação recente é MUITO melhor do que já foi. Os fatos evidenciam que toda a histeria em torno da questão ambiental não passa de narrativa mentirosa, criada para desgastar o Governo do Brasil e seus representantes. https://t.co/BaXcPtHuSI\n",
      "Imagine só você fazer parte de um grupo de Facebook ou WhatsApp e quando alguém manda uma foto mostrando a floresta pegando fogo ou um animal morto pelas queimadas você imediatamente considera ele um inimigo “comunista”... significa que você se tornou um monstro e não percebeu...\n",
      "F. Recursos para o enfrentamento às chamas do Pantanal: @mdregional_br destina R$ 13,9 milhões para combate às queimadas: aquisição de equipamentos, locação de veículos, maquinários e aeronaves. Realização de 32 ações no Mato Grosso e 37 no Mato Grosso do Sul. @rogeriosmarinho https://t.co/3StPW7k1ay\n",
      "“Índios e caboclos?” PF já tem provas para indiciar fazendeiros de MS por queimadas no Pantanal - 25/09/2020 - UOL Notícias https://t.co/7f0BEu19cf @UOLNoticias #UOL\n",
      "Informações sobre as queimadas. Compartilhe para que mais pessoas se informem da maneira correta! https://t.co/5Lv5rHoece\n",
      "O gov reduziu as verbas p/ brigadas de incêndio florestal em 58% em 1 ano. De R$23,78 mi em 2019 p/ R$9,99 mi em 2020.  Das verbas p/ combater e fiscalizar queimadas, o gov usou apenas 36% este ano. Dos R$173,8 mi liberados, foram utilizados R$61,8 mi.  Agr clamam p/ São Pedro 🤡\n",
      "Não há país que preserve como o Brasil! Além da liberação de R$ 13,9 milhões para o enfrentamento às queimadas no Pantanal, o Governo Federal investe em uma série de programas voltados à preservação e proteção do meio ambiente. https://t.co/SSae4uF3Uq\n",
      "Meu agradecimento para a equipe  de brigadistas de MG, além de outras equipe de outras partes do Brasil, que vieram nos ajudar nesse combate às queimadas no Pantanal! https://t.co/aTbwRO8G33\n",
      "'Eu vi a face do horror', diz fotógrafo Araquém Alcântara, que retrata a natureza brasileira há mais de 50 anos, sobre queimadas no Pantanal https://t.co/K5zpGWAlvD #G1 https://t.co/HyMtukwtTZ\n",
      "PF já tem provas para indiciar fazendeiros de MS por queimadas no Pantanal  Ao menos quatro fazendeiros da região da Serra do Amolar podem ser indiciados https://t.co/pgBjBd9Jxh via @UOLNoticias @UOL\n",
      "O Pantanal sofre com o maior número de queimadas da história. Essa tragédia não tem origem natural nem os povos indígenas são responsáveis. Só um presidente estelionatário e mentiroso compulsivo é capaz de falar esses absurdos!  https://t.co/4AQuPRqQ80\n",
      "E agora? Via Terra Brasil. Segundo reportagem do portal, dado revela que o número de queimadas em todo país esse ano é cinco vezes menor do que em 2007. https://t.co/7cN4D01NkK\n",
      "Fogo que destruiu 25 mil hectares no #Pantanal de MS começou em grandes fazendas, para transformar mata em pastagem,  aponta PF. Advogado diz que um dos fazendeiros colabora com as investigações 'pois é uma das vítimas das queimadas' #AjudaPantanal  https://t.co/J3okg9hSCp https://t.co/Euo2P41Gnn\n",
      "Por trás das queimadas estão o garimpo e o agro-negócio, ambos apoiados e protegidos pelo Bolsonaro !\n",
      "#OperaçãoPantanal Entre ontem e hoje (24), em apoio às ações de combate aos focos de queimadas no bioma Pantanal, a Marinha, por meio da aeronave Super Cougar, realizou infiltração de brigadistas do @ICMBio na reserva Taiamã, em Mato Grosso. https://t.co/u4vuLn6gaY\n",
      "CONVOCAÇÃO - O ministro Salles será convocado para explicar a falta de ação do governo no combate às queimadas. \"Ele sobrevoou o Pantanal em chamas e não fez absolutamente nada, não colocou nada a disposição”, criticou a dep. @prof_rosaneide.  Leia mais: https://t.co/lQW8jCIWKt https://t.co/jKZQ80Ml0N\n",
      "DOAÇÕES PARA OS POVOS INDÍGENAS ATINGIDOS PELAS QUEIMADAS NO PANTANAL DE MATO GROSSO (MT)  Caixa Econômica Federal Agência: 0016 Op: 013 - Conta Poupança Conta: 00082342-1  Favorecido: Federação dos Povos e Organizações Indígenas de Mato Grosso  CNPJ: 32.678.220/0001-65  +++\n",
      "⚠️ Nessa sexta (25), vai ter ato mundial em defesa do meio ambiente e contra as queimadas criminosas no nosso país. Em São Paulo, a manifestação será em frente à sede do Ibama. Muito importante a mobilização para denunciar os crimes de Salles e Bolsonaro. #ChegaDeQueimadas https://t.co/OcJ1K5PuW6\n",
      "Em relação ao ano passado, são 507 brigadistas a mais, que estão participando de ações conjuntas com órgãos estaduais, Forças Armadas e outras brigadas no combate às queimadas no Pantanal.  Fonte: Ministério do Meio Ambiente\n",
      "#Fantástico teve acesso aos detalhes do inquérito que investiga a origem de focos de queimadas no Pantanal. Imagens de satélite mostraram o caminho do fogo e a Polícia Federal suspeita da ação criminosa de criadores de gado da região: https://t.co/Kg1S5g2kq1\n",
      "Lewis Hamilton protagoniza vídeo que denuncia queimadas na Amazônia para o mundo | Revista Fórum https://t.co/LLquSotMy0\n",
      "Estados Unidos, Australia, Argentina, Ártico, Pantanal, Siberia...incêndios florestais ocorrendo no mundo todo. Total empenho do Governo Federal no combate às queimadas: assistência às pessoas e aos animais. Centenas de brigadistas, aviões, helicópteros e recursos empregados. https://t.co/m6ogWLJOgg\n",
      "O avião de Bolsonaro teve que arremeter por causa da fumaça de queimadas no Pantanal um dia depois dele dizer que o Brasil está de parabéns na preservação ambiental.  Bolsonaro pode fingir que não ouve, mas a natureza segue gritando.\n",
      "Discurso de Bolsonaro na ONU: as versões e os fatos   ✔️”Os focos criminosos (de queimadas) são combatidos com rigor e determinação” 👇🏼  (Presidente jamais cobrou a punição dos responsáveis pelo “Dia do Fogo” no Pará e desmobilizou aparato de prevenção e combate ao fogo)  ⬇️ https://t.co/kiGy7NY0Ak\n",
      "Racismo é estarmos em 2020 com negros, indígenas, ciganos entre outros vivendo à margem. Racismo é ministra dos direitos humanos pedindo que seja vetado acesso à água potável e UTI para indígenas na pandemia. Racismo é comunidades tradicionais serem afetadas pelas queimadas.\n",
      "O avião de Bolsonaro arremeteu hoje no Mato Grosso por causa da fumaça das queimadas no Pantanal. Ele foi ao estado para compromissos com o agronegócio. Considera que os incêndios são normais. Parece que a natureza não concorda e deu um jeito de mostrar isso.\n",
      "Avião de Bolsonaro é obrigado a arremeter por causa de queimadas em MT https://t.co/rGLl64vQaN #G1 https://t.co/w3IXL1MwV4\n",
      "Resumo do discurso de Bolsonaro na ONU:  - Auxílio Emergencial teve parcelas de 1000 dólares  - Quem promove queimadas são \"índios e caboclos\"  - Combate à \"cristofobia\" é prioridade  - Puxa-saco de Trump pelos acordos pró-Israel  O sujeito é uma fábrica de fake news e sandices.\n",
      "Sem citar governo de Bolsonaro, piloto participou de campanha da WWF, na qual diz que “queimadas são deliberadas, focadas no desmatamento, causam devastação generalizada e sofrimento inimaginável para as comunidades indígenas” https://t.co/Wxj97qm3rz\n",
      "&gt;@EstadaoEsporte Em vídeo, Lewis Hamilton faz campanha para conter queimadas na Amazônia https://t.co/zbYddg0Rvq\n",
      "Ricardo Salles culpa 'visão ideológica' por aumento de queimadas https://t.co/ekq8YAbzxA\n",
      "“As queimadas destruíram roças, queimaram casas. Estamos muitos preocupado com as nossas matas porque é delas que retiramos o nosso sustento, as nossas medicações tradicionais. Com a queimada, tudo isso está comprometido. Tudo está acabando”, diz Alessandra Guató, do povo Guató.\n",
      "Bolsonaro ignora queimadas e desmatamento e diz que o Brasil está de 'parabéns' na questão ambiental: 'É o País que mais preserva o meio ambiente' https://t.co/eCREJ7Alcw\n",
      "VÍDEO: ‘O tempo está se esgotando’, diz Hamilton em campanha contra queimadas na Amazônia https://t.co/K9aW6LlH5A\n",
      "Brasil sofre inquérito da ONU pelas queimadas, desmatamentos e violações aos direitos humanos.\n",
      "O Ministro do Meio Ambiente @rsallesmma esteve ao vivo no @programapanico, falando a verdade sobre a Amazônia, o Pantanal, queimadas e outros assuntos.  Assista online no link: https://t.co/lyUjSj11am\n",
      "O Pantanal bateu o recorde histórico de queimadas para o mês de setembro, mas Bolsonaro disse que o Brasil está de parabéns no cuidado com o meio ambiente. É criminosa a forma como o presidente mente para o povo. O que o governo faz é um verdadeiro genocídio das nossas florestas.\n",
      "Você tem ideia da dimensão das queimadas no Pantanal?  Essa imagem mostra os focos de incêndio na região da terra dos Guató apenas de julho a setembro. O fogo varreu a terra e o Parque Estadual do Encontro das Águas 👇🏽 https://t.co/JpZ44We3Cf\n",
      "Recorde de queimadas, desmatamento, destruição de biomas, da fauna, da flora e Bolsonaro diz que Brasil está de “parabéns por preservação ambiental”?  É muito cinismo!\n",
      "A Pública conversou com um agente do PrevFogo, do Sistema Nacional de Prevenção e Combate aos Incêndios Florestais, que não quis se identificar. Segundo o servidor, os monitoramentos meteorológicos já apontavam a intensificação das queimadas em 2020, mas governo demorou a agir.\n",
      "Dados de satélites são a base para o combate ao desmatamento e queimadas, e devem ser públicos. O chefe do Conselho da Amazônia deveria saber que ciência se faz com transparência. #InimigoDoMeioAmbiente https://t.co/jrVezSZv9j\n",
      "Bolsonaro ignora queimadas e desmatamento e diz que o Brasil está de 'parabéns' na questão ambiental https://t.co/eCREJ7iKkY\n",
      "A Marinha, por meio do Navio-Transporte Fluvial “Almirante Leverger”, apoiou, ontem (16), o combate a um incêndio pontual na vegetação da região do Porto da Manga, a 75 quilômetros de Corumbá-MS. O incidente não tem relação com os focos anteriores de queimadas no Pantanal. https://t.co/IROmzAJEUy\n",
      "Ainda neste ano, o Inpe também registrou a maior taxa já contabilizada de focos de incêndio no bioma, foram 15.756 registrados https://t.co/tTwdGL1Djj\n"
     ]
    }
   ],
   "source": [
    "for tweet in tweets:\n",
    "    print(tweet)"
   ]
  },
  {
   "cell_type": "markdown",
   "metadata": {
    "colab_type": "text",
    "id": "3ix4P44YV29N"
   },
   "source": [
    "Armazenando os tweets em um dataframe, deixamos no dataframe apenas as colunas que iremos trabalhar e renomeamos para facilitar e também foi criado um arquivo csv para armazenar os tweets coletados."
   ]
  },
  {
   "cell_type": "code",
   "execution_count": 11,
   "metadata": {
    "colab": {},
    "colab_type": "code",
    "id": "kedCPVGrV29P"
   },
   "outputs": [],
   "source": [
    "tweets_df = pd.DataFrame(tweets, columns=['Tweets']) \n",
    "\n",
    "tweets_df['len']  = np.array([len(tweet) for tweet in tweets])\n",
    "tweets_df['ID']   = np.array([tweet.id for tweet in info])\n",
    "tweets_df['Date'] = np.array([tweet.created_at for tweet in info])\n",
    "tweets_df['Source'] = np.array([tweet.source for tweet in info])\n",
    "tweets_df['Likes']  = np.array([tweet.favorite_count for tweet in info])\n",
    "tweets_df['RTs']    = np.array([tweet.retweet_count for tweet in info])\n",
    "tweets_df['User Location']    = np.array([tweet.user.location for tweet in info])\n",
    "tweets_df['Geo']    = np.array([tweet.geo for tweet in info])\n",
    "tweets_df['Coordinates']    = np.array([tweet.coordinates for tweet in info])\n",
    "\n",
    "#Criando um arquivo CSV\n",
    "tweets_df.to_csv(\"TweetsQueimadas.csv\")"
   ]
  },
  {
   "cell_type": "code",
   "execution_count": 12,
   "metadata": {
    "colab": {
     "base_uri": "https://localhost:8080/",
     "height": 1000
    },
    "colab_type": "code",
    "id": "AAU5hkd_V29V",
    "outputId": "4cf37c82-cea8-4f94-c1fa-32f25d39ac2a"
   },
   "outputs": [
    {
     "data": {
      "text/html": [
       "<div>\n",
       "<style scoped>\n",
       "    .dataframe tbody tr th:only-of-type {\n",
       "        vertical-align: middle;\n",
       "    }\n",
       "\n",
       "    .dataframe tbody tr th {\n",
       "        vertical-align: top;\n",
       "    }\n",
       "\n",
       "    .dataframe thead th {\n",
       "        text-align: right;\n",
       "    }\n",
       "</style>\n",
       "<table border=\"1\" class=\"dataframe\">\n",
       "  <thead>\n",
       "    <tr style=\"text-align: right;\">\n",
       "      <th></th>\n",
       "      <th>Tweets</th>\n",
       "      <th>len</th>\n",
       "      <th>ID</th>\n",
       "      <th>Date</th>\n",
       "      <th>Source</th>\n",
       "      <th>Likes</th>\n",
       "      <th>RTs</th>\n",
       "      <th>User Location</th>\n",
       "      <th>Geo</th>\n",
       "      <th>Coordinates</th>\n",
       "    </tr>\n",
       "  </thead>\n",
       "  <tbody>\n",
       "    <tr>\n",
       "      <th>0</th>\n",
       "      <td>Balanço da Semana: Cidades+Verdes CAU / Cadast...</td>\n",
       "      <td>140</td>\n",
       "      <td>1309680288965025793</td>\n",
       "      <td>2020-09-26 02:24:48</td>\n",
       "      <td>Twitter for iPhone</td>\n",
       "      <td>7083</td>\n",
       "      <td>1368</td>\n",
       "      <td>São Paulo, Brasil</td>\n",
       "      <td>None</td>\n",
       "      <td>None</td>\n",
       "    </tr>\n",
       "    <tr>\n",
       "      <th>1</th>\n",
       "      <td>Mesmo com os focos de incêndio que acometem o ...</td>\n",
       "      <td>276</td>\n",
       "      <td>1309870492174745601</td>\n",
       "      <td>2020-09-26 15:00:36</td>\n",
       "      <td>Twitter Web App</td>\n",
       "      <td>2917</td>\n",
       "      <td>805</td>\n",
       "      <td></td>\n",
       "      <td>None</td>\n",
       "      <td>None</td>\n",
       "    </tr>\n",
       "    <tr>\n",
       "      <th>2</th>\n",
       "      <td>As queimadas não são novidade. Felizmente, a s...</td>\n",
       "      <td>284</td>\n",
       "      <td>1309633736909230086</td>\n",
       "      <td>2020-09-25 23:19:49</td>\n",
       "      <td>Twitter Web App</td>\n",
       "      <td>2424</td>\n",
       "      <td>734</td>\n",
       "      <td></td>\n",
       "      <td>None</td>\n",
       "      <td>None</td>\n",
       "    </tr>\n",
       "    <tr>\n",
       "      <th>3</th>\n",
       "      <td>Imagine só você fazer parte de um grupo de Fac...</td>\n",
       "      <td>280</td>\n",
       "      <td>1309462619594600449</td>\n",
       "      <td>2020-09-25 11:59:51</td>\n",
       "      <td>Twitter for iPhone</td>\n",
       "      <td>3451</td>\n",
       "      <td>424</td>\n",
       "      <td>Sao Paulo, Brazil</td>\n",
       "      <td>None</td>\n",
       "      <td>None</td>\n",
       "    </tr>\n",
       "    <tr>\n",
       "      <th>4</th>\n",
       "      <td>F. Recursos para o enfrentamento às chamas do ...</td>\n",
       "      <td>301</td>\n",
       "      <td>1309445792969699328</td>\n",
       "      <td>2020-09-25 10:53:00</td>\n",
       "      <td>Twitter for iPhone</td>\n",
       "      <td>5793</td>\n",
       "      <td>1297</td>\n",
       "      <td>Brasília, Brasil</td>\n",
       "      <td>None</td>\n",
       "      <td>None</td>\n",
       "    </tr>\n",
       "    <tr>\n",
       "      <th>5</th>\n",
       "      <td>“Índios e caboclos?” PF já tem provas para ind...</td>\n",
       "      <td>165</td>\n",
       "      <td>1309466879661150208</td>\n",
       "      <td>2020-09-25 12:16:47</td>\n",
       "      <td>Twitter for iPhone</td>\n",
       "      <td>814</td>\n",
       "      <td>267</td>\n",
       "      <td>São Paulo, Brasil</td>\n",
       "      <td>None</td>\n",
       "      <td>None</td>\n",
       "    </tr>\n",
       "    <tr>\n",
       "      <th>6</th>\n",
       "      <td>Informações sobre as queimadas. Compartilhe pa...</td>\n",
       "      <td>121</td>\n",
       "      <td>1309496416377634817</td>\n",
       "      <td>2020-09-25 14:14:09</td>\n",
       "      <td>Twitter for Android</td>\n",
       "      <td>781</td>\n",
       "      <td>266</td>\n",
       "      <td>São Paulo, Brasil</td>\n",
       "      <td>None</td>\n",
       "      <td>None</td>\n",
       "    </tr>\n",
       "    <tr>\n",
       "      <th>7</th>\n",
       "      <td>O gov reduziu as verbas p/ brigadas de incêndi...</td>\n",
       "      <td>279</td>\n",
       "      <td>1309886128254783490</td>\n",
       "      <td>2020-09-26 16:02:44</td>\n",
       "      <td>Twitter for Android</td>\n",
       "      <td>1549</td>\n",
       "      <td>375</td>\n",
       "      <td>Brasil</td>\n",
       "      <td>None</td>\n",
       "      <td>None</td>\n",
       "    </tr>\n",
       "    <tr>\n",
       "      <th>8</th>\n",
       "      <td>Não há país que preserve como o Brasil! Além d...</td>\n",
       "      <td>251</td>\n",
       "      <td>1309844066155323395</td>\n",
       "      <td>2020-09-26 13:15:35</td>\n",
       "      <td>Twitter Web App</td>\n",
       "      <td>676</td>\n",
       "      <td>190</td>\n",
       "      <td></td>\n",
       "      <td>None</td>\n",
       "      <td>None</td>\n",
       "    </tr>\n",
       "    <tr>\n",
       "      <th>9</th>\n",
       "      <td>Meu agradecimento para a equipe  de brigadista...</td>\n",
       "      <td>190</td>\n",
       "      <td>1309278892390309890</td>\n",
       "      <td>2020-09-24 23:49:47</td>\n",
       "      <td>Twitter for iPhone</td>\n",
       "      <td>7037</td>\n",
       "      <td>1287</td>\n",
       "      <td>São Paulo, Brasil</td>\n",
       "      <td>None</td>\n",
       "      <td>None</td>\n",
       "    </tr>\n",
       "    <tr>\n",
       "      <th>10</th>\n",
       "      <td>'Eu vi a face do horror', diz fotógrafo Araqué...</td>\n",
       "      <td>192</td>\n",
       "      <td>1309875374549950464</td>\n",
       "      <td>2020-09-26 15:20:00</td>\n",
       "      <td>TweetDeck</td>\n",
       "      <td>1323</td>\n",
       "      <td>179</td>\n",
       "      <td>Brasil</td>\n",
       "      <td>None</td>\n",
       "      <td>None</td>\n",
       "    </tr>\n",
       "    <tr>\n",
       "      <th>11</th>\n",
       "      <td>PF já tem provas para indiciar fazendeiros de ...</td>\n",
       "      <td>199</td>\n",
       "      <td>1309439496627408897</td>\n",
       "      <td>2020-09-25 10:27:58</td>\n",
       "      <td>Twitter Web App</td>\n",
       "      <td>736</td>\n",
       "      <td>165</td>\n",
       "      <td></td>\n",
       "      <td>None</td>\n",
       "      <td>None</td>\n",
       "    </tr>\n",
       "    <tr>\n",
       "      <th>12</th>\n",
       "      <td>O Pantanal sofre com o maior número de queimad...</td>\n",
       "      <td>252</td>\n",
       "      <td>1309873659725705222</td>\n",
       "      <td>2020-09-26 15:13:11</td>\n",
       "      <td>Twitter Web App</td>\n",
       "      <td>1028</td>\n",
       "      <td>204</td>\n",
       "      <td>Fortaleza, Brasil</td>\n",
       "      <td>None</td>\n",
       "      <td>None</td>\n",
       "    </tr>\n",
       "    <tr>\n",
       "      <th>13</th>\n",
       "      <td>E agora? Via Terra Brasil. Segundo reportagem ...</td>\n",
       "      <td>176</td>\n",
       "      <td>1309879017840037888</td>\n",
       "      <td>2020-09-26 15:34:28</td>\n",
       "      <td>Twitter for Android</td>\n",
       "      <td>562</td>\n",
       "      <td>164</td>\n",
       "      <td>São Paulo, Brasil</td>\n",
       "      <td>None</td>\n",
       "      <td>None</td>\n",
       "    </tr>\n",
       "    <tr>\n",
       "      <th>14</th>\n",
       "      <td>Fogo que destruiu 25 mil hectares no #Pantanal...</td>\n",
       "      <td>297</td>\n",
       "      <td>1309454547866267648</td>\n",
       "      <td>2020-09-25 11:27:47</td>\n",
       "      <td>Twitter for Android</td>\n",
       "      <td>507</td>\n",
       "      <td>215</td>\n",
       "      <td>RJ/MG</td>\n",
       "      <td>None</td>\n",
       "      <td>None</td>\n",
       "    </tr>\n",
       "    <tr>\n",
       "      <th>15</th>\n",
       "      <td>Por trás das queimadas estão o garimpo e o agr...</td>\n",
       "      <td>101</td>\n",
       "      <td>1309277033718050817</td>\n",
       "      <td>2020-09-24 23:42:24</td>\n",
       "      <td>Twitter Web App</td>\n",
       "      <td>475</td>\n",
       "      <td>98</td>\n",
       "      <td>Porto Alegre</td>\n",
       "      <td>None</td>\n",
       "      <td>None</td>\n",
       "    </tr>\n",
       "    <tr>\n",
       "      <th>16</th>\n",
       "      <td>#OperaçãoPantanal Entre ontem e hoje (24), em ...</td>\n",
       "      <td>265</td>\n",
       "      <td>1309251087283687426</td>\n",
       "      <td>2020-09-24 21:59:18</td>\n",
       "      <td>Twitter for iPhone</td>\n",
       "      <td>589</td>\n",
       "      <td>84</td>\n",
       "      <td>Brasil</td>\n",
       "      <td>None</td>\n",
       "      <td>None</td>\n",
       "    </tr>\n",
       "    <tr>\n",
       "      <th>17</th>\n",
       "      <td>CONVOCAÇÃO - O ministro Salles será convocado ...</td>\n",
       "      <td>302</td>\n",
       "      <td>1309250137869488133</td>\n",
       "      <td>2020-09-24 21:55:32</td>\n",
       "      <td>Twitter Web App</td>\n",
       "      <td>78</td>\n",
       "      <td>37</td>\n",
       "      <td>Brasília-DF-Brasil</td>\n",
       "      <td>None</td>\n",
       "      <td>None</td>\n",
       "    </tr>\n",
       "    <tr>\n",
       "      <th>18</th>\n",
       "      <td>DOAÇÕES PARA OS POVOS INDÍGENAS ATINGIDOS PELA...</td>\n",
       "      <td>275</td>\n",
       "      <td>1307500501743865856</td>\n",
       "      <td>2020-09-20 02:03:06</td>\n",
       "      <td>Twitter for iPhone</td>\n",
       "      <td>4257</td>\n",
       "      <td>3616</td>\n",
       "      <td></td>\n",
       "      <td>None</td>\n",
       "      <td>None</td>\n",
       "    </tr>\n",
       "    <tr>\n",
       "      <th>19</th>\n",
       "      <td>⚠️ Nessa sexta (25), vai ter ato mundial em de...</td>\n",
       "      <td>297</td>\n",
       "      <td>1309267848422973443</td>\n",
       "      <td>2020-09-24 23:05:54</td>\n",
       "      <td>Twitter for Android</td>\n",
       "      <td>133</td>\n",
       "      <td>31</td>\n",
       "      <td>São Paulo</td>\n",
       "      <td>None</td>\n",
       "      <td>None</td>\n",
       "    </tr>\n",
       "    <tr>\n",
       "      <th>20</th>\n",
       "      <td>Em relação ao ano passado, são 507 brigadistas...</td>\n",
       "      <td>224</td>\n",
       "      <td>1309231285563461633</td>\n",
       "      <td>2020-09-24 20:40:37</td>\n",
       "      <td>Twitter Web App</td>\n",
       "      <td>178</td>\n",
       "      <td>45</td>\n",
       "      <td></td>\n",
       "      <td>None</td>\n",
       "      <td>None</td>\n",
       "    </tr>\n",
       "    <tr>\n",
       "      <th>21</th>\n",
       "      <td>#Fantástico teve acesso aos detalhes do inquér...</td>\n",
       "      <td>258</td>\n",
       "      <td>1307827521514278920</td>\n",
       "      <td>2020-09-20 23:42:34</td>\n",
       "      <td>TweetDeck</td>\n",
       "      <td>2266</td>\n",
       "      <td>602</td>\n",
       "      <td>Brasil</td>\n",
       "      <td>None</td>\n",
       "      <td>None</td>\n",
       "    </tr>\n",
       "    <tr>\n",
       "      <th>22</th>\n",
       "      <td>Lewis Hamilton protagoniza vídeo que denuncia ...</td>\n",
       "      <td>120</td>\n",
       "      <td>1306802794528215040</td>\n",
       "      <td>2020-09-18 03:50:40</td>\n",
       "      <td>Twitter for iPhone</td>\n",
       "      <td>3590</td>\n",
       "      <td>805</td>\n",
       "      <td></td>\n",
       "      <td>None</td>\n",
       "      <td>None</td>\n",
       "    </tr>\n",
       "    <tr>\n",
       "      <th>23</th>\n",
       "      <td>Estados Unidos, Australia, Argentina, Ártico, ...</td>\n",
       "      <td>300</td>\n",
       "      <td>1307109601100341248</td>\n",
       "      <td>2020-09-19 00:09:48</td>\n",
       "      <td>Twitter for iPhone</td>\n",
       "      <td>10794</td>\n",
       "      <td>2451</td>\n",
       "      <td>São Paulo, Brasil</td>\n",
       "      <td>None</td>\n",
       "      <td>None</td>\n",
       "    </tr>\n",
       "    <tr>\n",
       "      <th>24</th>\n",
       "      <td>O avião de Bolsonaro teve que arremeter por ca...</td>\n",
       "      <td>233</td>\n",
       "      <td>1307038033473142785</td>\n",
       "      <td>2020-09-18 19:25:25</td>\n",
       "      <td>Twitter Web App</td>\n",
       "      <td>6686</td>\n",
       "      <td>1172</td>\n",
       "      <td></td>\n",
       "      <td>None</td>\n",
       "      <td>None</td>\n",
       "    </tr>\n",
       "    <tr>\n",
       "      <th>25</th>\n",
       "      <td>Discurso de Bolsonaro na ONU: as versões e os ...</td>\n",
       "      <td>299</td>\n",
       "      <td>1308417043977437184</td>\n",
       "      <td>2020-09-22 14:45:07</td>\n",
       "      <td>Twitter for iPhone</td>\n",
       "      <td>7002</td>\n",
       "      <td>1680</td>\n",
       "      <td>Rio de Janeiro, Brasil</td>\n",
       "      <td>None</td>\n",
       "      <td>None</td>\n",
       "    </tr>\n",
       "    <tr>\n",
       "      <th>26</th>\n",
       "      <td>Racismo é estarmos em 2020 com negros, indígen...</td>\n",
       "      <td>275</td>\n",
       "      <td>1307390019909423112</td>\n",
       "      <td>2020-09-19 18:44:05</td>\n",
       "      <td>Twitter for iPhone</td>\n",
       "      <td>5099</td>\n",
       "      <td>1381</td>\n",
       "      <td></td>\n",
       "      <td>None</td>\n",
       "      <td>None</td>\n",
       "    </tr>\n",
       "    <tr>\n",
       "      <th>27</th>\n",
       "      <td>O avião de Bolsonaro arremeteu hoje no Mato Gr...</td>\n",
       "      <td>259</td>\n",
       "      <td>1307013569922445314</td>\n",
       "      <td>2020-09-18 17:48:12</td>\n",
       "      <td>Twitter for Android</td>\n",
       "      <td>9542</td>\n",
       "      <td>1177</td>\n",
       "      <td></td>\n",
       "      <td>None</td>\n",
       "      <td>None</td>\n",
       "    </tr>\n",
       "    <tr>\n",
       "      <th>28</th>\n",
       "      <td>Avião de Bolsonaro é obrigado a arremeter por ...</td>\n",
       "      <td>122</td>\n",
       "      <td>1306971621039710208</td>\n",
       "      <td>2020-09-18 15:01:31</td>\n",
       "      <td>TweetDeck</td>\n",
       "      <td>21335</td>\n",
       "      <td>2040</td>\n",
       "      <td>Brasil</td>\n",
       "      <td>None</td>\n",
       "      <td>None</td>\n",
       "    </tr>\n",
       "    <tr>\n",
       "      <th>29</th>\n",
       "      <td>Resumo do discurso de Bolsonaro na ONU:  - Aux...</td>\n",
       "      <td>279</td>\n",
       "      <td>1308405567459917825</td>\n",
       "      <td>2020-09-22 13:59:30</td>\n",
       "      <td>Twitter Web App</td>\n",
       "      <td>2731</td>\n",
       "      <td>648</td>\n",
       "      <td>São Paulo, Brasil</td>\n",
       "      <td>None</td>\n",
       "      <td>None</td>\n",
       "    </tr>\n",
       "    <tr>\n",
       "      <th>30</th>\n",
       "      <td>Sem citar governo de Bolsonaro, piloto partici...</td>\n",
       "      <td>250</td>\n",
       "      <td>1306779326004822017</td>\n",
       "      <td>2020-09-18 02:17:24</td>\n",
       "      <td>TweetDeck</td>\n",
       "      <td>2491</td>\n",
       "      <td>663</td>\n",
       "      <td>Brasil</td>\n",
       "      <td>None</td>\n",
       "      <td>None</td>\n",
       "    </tr>\n",
       "    <tr>\n",
       "      <th>31</th>\n",
       "      <td>&amp;gt;@EstadaoEsporte Em vídeo, Lewis Hamilton f...</td>\n",
       "      <td>115</td>\n",
       "      <td>1306671764953427972</td>\n",
       "      <td>2020-09-17 19:10:00</td>\n",
       "      <td>TweetDeck</td>\n",
       "      <td>2124</td>\n",
       "      <td>259</td>\n",
       "      <td>São Paulo</td>\n",
       "      <td>None</td>\n",
       "      <td>None</td>\n",
       "    </tr>\n",
       "    <tr>\n",
       "      <th>32</th>\n",
       "      <td>Ricardo Salles culpa 'visão ideológica' por au...</td>\n",
       "      <td>88</td>\n",
       "      <td>1306660471458668544</td>\n",
       "      <td>2020-09-17 18:25:07</td>\n",
       "      <td>Zapier.com</td>\n",
       "      <td>688</td>\n",
       "      <td>160</td>\n",
       "      <td>Brasil</td>\n",
       "      <td>None</td>\n",
       "      <td>None</td>\n",
       "    </tr>\n",
       "    <tr>\n",
       "      <th>33</th>\n",
       "      <td>“As queimadas destruíram roças, queimaram casa...</td>\n",
       "      <td>279</td>\n",
       "      <td>1306651073181093890</td>\n",
       "      <td>2020-09-17 17:47:46</td>\n",
       "      <td>Twitter Web App</td>\n",
       "      <td>859</td>\n",
       "      <td>298</td>\n",
       "      <td>São Paulo, Brasil</td>\n",
       "      <td>None</td>\n",
       "      <td>None</td>\n",
       "    </tr>\n",
       "    <tr>\n",
       "      <th>34</th>\n",
       "      <td>Bolsonaro ignora queimadas e desmatamento e di...</td>\n",
       "      <td>170</td>\n",
       "      <td>1306681831287222273</td>\n",
       "      <td>2020-09-17 19:50:00</td>\n",
       "      <td>TweetDeck</td>\n",
       "      <td>1122</td>\n",
       "      <td>237</td>\n",
       "      <td>São Paulo</td>\n",
       "      <td>None</td>\n",
       "      <td>None</td>\n",
       "    </tr>\n",
       "    <tr>\n",
       "      <th>35</th>\n",
       "      <td>VÍDEO: ‘O tempo está se esgotando’, diz Hamilt...</td>\n",
       "      <td>113</td>\n",
       "      <td>1306768002050916353</td>\n",
       "      <td>2020-09-18 01:32:24</td>\n",
       "      <td>Twitter Web App</td>\n",
       "      <td>581</td>\n",
       "      <td>171</td>\n",
       "      <td>Sao Paulo, Brazil</td>\n",
       "      <td>None</td>\n",
       "      <td>None</td>\n",
       "    </tr>\n",
       "    <tr>\n",
       "      <th>36</th>\n",
       "      <td>Brasil sofre inquérito da ONU pelas queimadas,...</td>\n",
       "      <td>94</td>\n",
       "      <td>1306680684422074368</td>\n",
       "      <td>2020-09-17 19:45:26</td>\n",
       "      <td>Twitter for iPhone</td>\n",
       "      <td>1411</td>\n",
       "      <td>247</td>\n",
       "      <td>ÜT: -23.542504,-46.657429</td>\n",
       "      <td>None</td>\n",
       "      <td>None</td>\n",
       "    </tr>\n",
       "    <tr>\n",
       "      <th>37</th>\n",
       "      <td>O Ministro do Meio Ambiente @rsallesmma esteve...</td>\n",
       "      <td>200</td>\n",
       "      <td>1306659201649958912</td>\n",
       "      <td>2020-09-17 18:20:04</td>\n",
       "      <td>Twitter for iPhone</td>\n",
       "      <td>678</td>\n",
       "      <td>154</td>\n",
       "      <td>São Paulo - SP</td>\n",
       "      <td>None</td>\n",
       "      <td>None</td>\n",
       "    </tr>\n",
       "    <tr>\n",
       "      <th>38</th>\n",
       "      <td>O Pantanal bateu o recorde histórico de queima...</td>\n",
       "      <td>280</td>\n",
       "      <td>1306702992180215809</td>\n",
       "      <td>2020-09-17 21:14:05</td>\n",
       "      <td>Twitter for iPhone</td>\n",
       "      <td>540</td>\n",
       "      <td>107</td>\n",
       "      <td>Niterói, Brasil</td>\n",
       "      <td>None</td>\n",
       "      <td>None</td>\n",
       "    </tr>\n",
       "    <tr>\n",
       "      <th>39</th>\n",
       "      <td>Você tem ideia da dimensão das queimadas no Pa...</td>\n",
       "      <td>242</td>\n",
       "      <td>1306650082683564033</td>\n",
       "      <td>2020-09-17 17:43:50</td>\n",
       "      <td>Twitter Web App</td>\n",
       "      <td>164</td>\n",
       "      <td>82</td>\n",
       "      <td>São Paulo, Brasil</td>\n",
       "      <td>None</td>\n",
       "      <td>None</td>\n",
       "    </tr>\n",
       "    <tr>\n",
       "      <th>40</th>\n",
       "      <td>Recorde de queimadas, desmatamento, destruição...</td>\n",
       "      <td>167</td>\n",
       "      <td>1306658937907929096</td>\n",
       "      <td>2020-09-17 18:19:02</td>\n",
       "      <td>Twitter for iPhone</td>\n",
       "      <td>788</td>\n",
       "      <td>148</td>\n",
       "      <td>Brasil, Distrito Federal</td>\n",
       "      <td>None</td>\n",
       "      <td>None</td>\n",
       "    </tr>\n",
       "    <tr>\n",
       "      <th>41</th>\n",
       "      <td>A Pública conversou com um agente do PrevFogo,...</td>\n",
       "      <td>278</td>\n",
       "      <td>1306651077572517890</td>\n",
       "      <td>2020-09-17 17:47:47</td>\n",
       "      <td>Twitter Web App</td>\n",
       "      <td>468</td>\n",
       "      <td>129</td>\n",
       "      <td>São Paulo, Brasil</td>\n",
       "      <td>None</td>\n",
       "      <td>None</td>\n",
       "    </tr>\n",
       "    <tr>\n",
       "      <th>42</th>\n",
       "      <td>Dados de satélites são a base para o combate a...</td>\n",
       "      <td>226</td>\n",
       "      <td>1306680430545055744</td>\n",
       "      <td>2020-09-17 19:44:26</td>\n",
       "      <td>TweetDeck</td>\n",
       "      <td>184</td>\n",
       "      <td>43</td>\n",
       "      <td>Brasil</td>\n",
       "      <td>None</td>\n",
       "      <td>None</td>\n",
       "    </tr>\n",
       "    <tr>\n",
       "      <th>43</th>\n",
       "      <td>Bolsonaro ignora queimadas e desmatamento e di...</td>\n",
       "      <td>124</td>\n",
       "      <td>1306732162884997122</td>\n",
       "      <td>2020-09-17 23:10:00</td>\n",
       "      <td>TweetDeck</td>\n",
       "      <td>143</td>\n",
       "      <td>36</td>\n",
       "      <td>São Paulo</td>\n",
       "      <td>None</td>\n",
       "      <td>None</td>\n",
       "    </tr>\n",
       "    <tr>\n",
       "      <th>44</th>\n",
       "      <td>A Marinha, por meio do Navio-Transporte Fluvia...</td>\n",
       "      <td>297</td>\n",
       "      <td>1306719500599951360</td>\n",
       "      <td>2020-09-17 22:19:41</td>\n",
       "      <td>Twitter for iPhone</td>\n",
       "      <td>426</td>\n",
       "      <td>46</td>\n",
       "      <td>Brasil</td>\n",
       "      <td>None</td>\n",
       "      <td>None</td>\n",
       "    </tr>\n",
       "    <tr>\n",
       "      <th>45</th>\n",
       "      <td>Ainda neste ano, o Inpe também registrou a mai...</td>\n",
       "      <td>150</td>\n",
       "      <td>1306649778445574144</td>\n",
       "      <td>2020-09-17 17:42:38</td>\n",
       "      <td>Twitter Web App</td>\n",
       "      <td>77</td>\n",
       "      <td>20</td>\n",
       "      <td>São Paulo, Brasil</td>\n",
       "      <td>None</td>\n",
       "      <td>None</td>\n",
       "    </tr>\n",
       "  </tbody>\n",
       "</table>\n",
       "</div>"
      ],
      "text/plain": [
       "                                               Tweets  len  \\\n",
       "0   Balanço da Semana: Cidades+Verdes CAU / Cadast...  140   \n",
       "1   Mesmo com os focos de incêndio que acometem o ...  276   \n",
       "2   As queimadas não são novidade. Felizmente, a s...  284   \n",
       "3   Imagine só você fazer parte de um grupo de Fac...  280   \n",
       "4   F. Recursos para o enfrentamento às chamas do ...  301   \n",
       "5   “Índios e caboclos?” PF já tem provas para ind...  165   \n",
       "6   Informações sobre as queimadas. Compartilhe pa...  121   \n",
       "7   O gov reduziu as verbas p/ brigadas de incêndi...  279   \n",
       "8   Não há país que preserve como o Brasil! Além d...  251   \n",
       "9   Meu agradecimento para a equipe  de brigadista...  190   \n",
       "10  'Eu vi a face do horror', diz fotógrafo Araqué...  192   \n",
       "11  PF já tem provas para indiciar fazendeiros de ...  199   \n",
       "12  O Pantanal sofre com o maior número de queimad...  252   \n",
       "13  E agora? Via Terra Brasil. Segundo reportagem ...  176   \n",
       "14  Fogo que destruiu 25 mil hectares no #Pantanal...  297   \n",
       "15  Por trás das queimadas estão o garimpo e o agr...  101   \n",
       "16  #OperaçãoPantanal Entre ontem e hoje (24), em ...  265   \n",
       "17  CONVOCAÇÃO - O ministro Salles será convocado ...  302   \n",
       "18  DOAÇÕES PARA OS POVOS INDÍGENAS ATINGIDOS PELA...  275   \n",
       "19  ⚠️ Nessa sexta (25), vai ter ato mundial em de...  297   \n",
       "20  Em relação ao ano passado, são 507 brigadistas...  224   \n",
       "21  #Fantástico teve acesso aos detalhes do inquér...  258   \n",
       "22  Lewis Hamilton protagoniza vídeo que denuncia ...  120   \n",
       "23  Estados Unidos, Australia, Argentina, Ártico, ...  300   \n",
       "24  O avião de Bolsonaro teve que arremeter por ca...  233   \n",
       "25  Discurso de Bolsonaro na ONU: as versões e os ...  299   \n",
       "26  Racismo é estarmos em 2020 com negros, indígen...  275   \n",
       "27  O avião de Bolsonaro arremeteu hoje no Mato Gr...  259   \n",
       "28  Avião de Bolsonaro é obrigado a arremeter por ...  122   \n",
       "29  Resumo do discurso de Bolsonaro na ONU:  - Aux...  279   \n",
       "30  Sem citar governo de Bolsonaro, piloto partici...  250   \n",
       "31  &gt;@EstadaoEsporte Em vídeo, Lewis Hamilton f...  115   \n",
       "32  Ricardo Salles culpa 'visão ideológica' por au...   88   \n",
       "33  “As queimadas destruíram roças, queimaram casa...  279   \n",
       "34  Bolsonaro ignora queimadas e desmatamento e di...  170   \n",
       "35  VÍDEO: ‘O tempo está se esgotando’, diz Hamilt...  113   \n",
       "36  Brasil sofre inquérito da ONU pelas queimadas,...   94   \n",
       "37  O Ministro do Meio Ambiente @rsallesmma esteve...  200   \n",
       "38  O Pantanal bateu o recorde histórico de queima...  280   \n",
       "39  Você tem ideia da dimensão das queimadas no Pa...  242   \n",
       "40  Recorde de queimadas, desmatamento, destruição...  167   \n",
       "41  A Pública conversou com um agente do PrevFogo,...  278   \n",
       "42  Dados de satélites são a base para o combate a...  226   \n",
       "43  Bolsonaro ignora queimadas e desmatamento e di...  124   \n",
       "44  A Marinha, por meio do Navio-Transporte Fluvia...  297   \n",
       "45  Ainda neste ano, o Inpe também registrou a mai...  150   \n",
       "\n",
       "                     ID                Date               Source  Likes   RTs  \\\n",
       "0   1309680288965025793 2020-09-26 02:24:48   Twitter for iPhone   7083  1368   \n",
       "1   1309870492174745601 2020-09-26 15:00:36      Twitter Web App   2917   805   \n",
       "2   1309633736909230086 2020-09-25 23:19:49      Twitter Web App   2424   734   \n",
       "3   1309462619594600449 2020-09-25 11:59:51   Twitter for iPhone   3451   424   \n",
       "4   1309445792969699328 2020-09-25 10:53:00   Twitter for iPhone   5793  1297   \n",
       "5   1309466879661150208 2020-09-25 12:16:47   Twitter for iPhone    814   267   \n",
       "6   1309496416377634817 2020-09-25 14:14:09  Twitter for Android    781   266   \n",
       "7   1309886128254783490 2020-09-26 16:02:44  Twitter for Android   1549   375   \n",
       "8   1309844066155323395 2020-09-26 13:15:35      Twitter Web App    676   190   \n",
       "9   1309278892390309890 2020-09-24 23:49:47   Twitter for iPhone   7037  1287   \n",
       "10  1309875374549950464 2020-09-26 15:20:00            TweetDeck   1323   179   \n",
       "11  1309439496627408897 2020-09-25 10:27:58      Twitter Web App    736   165   \n",
       "12  1309873659725705222 2020-09-26 15:13:11      Twitter Web App   1028   204   \n",
       "13  1309879017840037888 2020-09-26 15:34:28  Twitter for Android    562   164   \n",
       "14  1309454547866267648 2020-09-25 11:27:47  Twitter for Android    507   215   \n",
       "15  1309277033718050817 2020-09-24 23:42:24      Twitter Web App    475    98   \n",
       "16  1309251087283687426 2020-09-24 21:59:18   Twitter for iPhone    589    84   \n",
       "17  1309250137869488133 2020-09-24 21:55:32      Twitter Web App     78    37   \n",
       "18  1307500501743865856 2020-09-20 02:03:06   Twitter for iPhone   4257  3616   \n",
       "19  1309267848422973443 2020-09-24 23:05:54  Twitter for Android    133    31   \n",
       "20  1309231285563461633 2020-09-24 20:40:37      Twitter Web App    178    45   \n",
       "21  1307827521514278920 2020-09-20 23:42:34            TweetDeck   2266   602   \n",
       "22  1306802794528215040 2020-09-18 03:50:40   Twitter for iPhone   3590   805   \n",
       "23  1307109601100341248 2020-09-19 00:09:48   Twitter for iPhone  10794  2451   \n",
       "24  1307038033473142785 2020-09-18 19:25:25      Twitter Web App   6686  1172   \n",
       "25  1308417043977437184 2020-09-22 14:45:07   Twitter for iPhone   7002  1680   \n",
       "26  1307390019909423112 2020-09-19 18:44:05   Twitter for iPhone   5099  1381   \n",
       "27  1307013569922445314 2020-09-18 17:48:12  Twitter for Android   9542  1177   \n",
       "28  1306971621039710208 2020-09-18 15:01:31            TweetDeck  21335  2040   \n",
       "29  1308405567459917825 2020-09-22 13:59:30      Twitter Web App   2731   648   \n",
       "30  1306779326004822017 2020-09-18 02:17:24            TweetDeck   2491   663   \n",
       "31  1306671764953427972 2020-09-17 19:10:00            TweetDeck   2124   259   \n",
       "32  1306660471458668544 2020-09-17 18:25:07           Zapier.com    688   160   \n",
       "33  1306651073181093890 2020-09-17 17:47:46      Twitter Web App    859   298   \n",
       "34  1306681831287222273 2020-09-17 19:50:00            TweetDeck   1122   237   \n",
       "35  1306768002050916353 2020-09-18 01:32:24      Twitter Web App    581   171   \n",
       "36  1306680684422074368 2020-09-17 19:45:26   Twitter for iPhone   1411   247   \n",
       "37  1306659201649958912 2020-09-17 18:20:04   Twitter for iPhone    678   154   \n",
       "38  1306702992180215809 2020-09-17 21:14:05   Twitter for iPhone    540   107   \n",
       "39  1306650082683564033 2020-09-17 17:43:50      Twitter Web App    164    82   \n",
       "40  1306658937907929096 2020-09-17 18:19:02   Twitter for iPhone    788   148   \n",
       "41  1306651077572517890 2020-09-17 17:47:47      Twitter Web App    468   129   \n",
       "42  1306680430545055744 2020-09-17 19:44:26            TweetDeck    184    43   \n",
       "43  1306732162884997122 2020-09-17 23:10:00            TweetDeck    143    36   \n",
       "44  1306719500599951360 2020-09-17 22:19:41   Twitter for iPhone    426    46   \n",
       "45  1306649778445574144 2020-09-17 17:42:38      Twitter Web App     77    20   \n",
       "\n",
       "                User Location   Geo Coordinates  \n",
       "0           São Paulo, Brasil  None        None  \n",
       "1                              None        None  \n",
       "2                              None        None  \n",
       "3           Sao Paulo, Brazil  None        None  \n",
       "4            Brasília, Brasil  None        None  \n",
       "5           São Paulo, Brasil  None        None  \n",
       "6           São Paulo, Brasil  None        None  \n",
       "7                      Brasil  None        None  \n",
       "8                              None        None  \n",
       "9           São Paulo, Brasil  None        None  \n",
       "10                     Brasil  None        None  \n",
       "11                             None        None  \n",
       "12          Fortaleza, Brasil  None        None  \n",
       "13          São Paulo, Brasil  None        None  \n",
       "14                      RJ/MG  None        None  \n",
       "15               Porto Alegre  None        None  \n",
       "16                     Brasil  None        None  \n",
       "17         Brasília-DF-Brasil  None        None  \n",
       "18                             None        None  \n",
       "19                  São Paulo  None        None  \n",
       "20                             None        None  \n",
       "21                     Brasil  None        None  \n",
       "22                             None        None  \n",
       "23          São Paulo, Brasil  None        None  \n",
       "24                             None        None  \n",
       "25     Rio de Janeiro, Brasil  None        None  \n",
       "26                             None        None  \n",
       "27                             None        None  \n",
       "28                     Brasil  None        None  \n",
       "29          São Paulo, Brasil  None        None  \n",
       "30                     Brasil  None        None  \n",
       "31                  São Paulo  None        None  \n",
       "32                     Brasil  None        None  \n",
       "33          São Paulo, Brasil  None        None  \n",
       "34                  São Paulo  None        None  \n",
       "35          Sao Paulo, Brazil  None        None  \n",
       "36  ÜT: -23.542504,-46.657429  None        None  \n",
       "37             São Paulo - SP  None        None  \n",
       "38            Niterói, Brasil  None        None  \n",
       "39          São Paulo, Brasil  None        None  \n",
       "40   Brasil, Distrito Federal  None        None  \n",
       "41          São Paulo, Brasil  None        None  \n",
       "42                     Brasil  None        None  \n",
       "43                  São Paulo  None        None  \n",
       "44                     Brasil  None        None  \n",
       "45          São Paulo, Brasil  None        None  "
      ]
     },
     "execution_count": 12,
     "metadata": {},
     "output_type": "execute_result"
    }
   ],
   "source": [
    "#Resultado Dataframe\n",
    "tweets_df.head(50)"
   ]
  },
  {
   "cell_type": "code",
   "execution_count": 13,
   "metadata": {
    "colab": {
     "base_uri": "https://localhost:8080/",
     "height": 390
    },
    "colab_type": "code",
    "id": "5440eCB_Yqew",
    "outputId": "ad7bfb5e-5fb8-4b83-fbf4-2b83aac5d821",
    "scrolled": false
   },
   "outputs": [
    {
     "data": {
      "text/plain": [
       "<matplotlib.axes._subplots.AxesSubplot at 0x1d6f430ab20>"
      ]
     },
     "execution_count": 13,
     "metadata": {},
     "output_type": "execute_result"
    },
    {
     "data": {
      "image/png": "[encoded data removed]",
      "text/plain": [
       "<Figure size 864x432 with 1 Axes>"
      ]
     },
     "metadata": {
      "needs_background": "light"
     },
     "output_type": "display_data"
    }
   ],
   "source": [
    "# Plotar um heatmap que apresenta quais colunas possuem a maior quantidade de dados ausentes\n",
    "plt.figure(figsize=(12,6))\n",
    "sns.heatmap(tweets_df.isnull(), yticklabels=False, cbar=False, cmap='viridis')"
   ]
  },
  {
   "cell_type": "markdown",
   "metadata": {
    "colab_type": "text",
    "id": "IDlVqplsV29c"
   },
   "source": [
    "Primeiro iremos verificar qual foi o tweet do termo pesquisado que houve mais curtidas e os que tiveram maior número de retweets"
   ]
  },
  {
   "cell_type": "code",
   "execution_count": 59,
   "metadata": {
    "colab": {
     "base_uri": "https://localhost:8080/",
     "height": 167
    },
    "colab_type": "code",
    "id": "tyAtcf6OV29d",
    "outputId": "6c24a829-62b7-41b5-db51-abcaca4b01da",
    "tags": []
   },
   "outputs": [
    {
     "name": "stdout",
     "output_type": "stream",
     "text": [
      "O tweet com mais curtidas é: \n",
      "Avião de Bolsonaro é obrigado a arremeter por causa de queimadas em MT https://t.co/rGLl64vQaN #G1 https://t.co/w3IXL1MwV4\n",
      "Número de curtidas: 21335\n",
      "\n",
      "\n",
      "O tweet com mais retweet é: \n",
      "DOAÇÕES PARA OS POVOS INDÍGENAS ATINGIDOS PELAS QUEIMADAS NO PANTANAL DE MATO GROSSO (MT)  Caixa Econômica Federal Agência: 0016 Op: 013 - Conta Poupança Conta: 00082342-1  Favorecido: Federação dos Povos e Organizações Indígenas de Mato Grosso  CNPJ: 32.678.220/0001-65  +++\n",
      "Número de retweets: 3616\n",
      "\n",
      "\n",
      "O tweet com menos curtidas é: \n",
      "Ainda neste ano, o Inpe também registrou a maior taxa já contabilizada de focos de incêndio no bioma, foram 15.756 registrados https://t.co/tTwdGL1Djj\n",
      "Número de curtidas: 77\n",
      "\n",
      "\n",
      "O tweet com menos retweet é: \n",
      "Ainda neste ano, o Inpe também registrou a maior taxa já contabilizada de focos de incêndio no bioma, foram 15.756 registrados https://t.co/tTwdGL1Djj\n",
      "Número de retweets: 20\n"
     ]
    }
   ],
   "source": [
    "fav_max = np.max(tweets_df['Likes'])\n",
    "rt_max  = np.max(tweets_df['RTs'])\n",
    "\n",
    "fav_min = np.min(tweets_df['Likes'])\n",
    "rt_min  = np.min(tweets_df['RTs'])\n",
    "\n",
    "fav = tweets_df[tweets_df.Likes == fav_max].index[0]\n",
    "rt  = tweets_df[tweets_df.RTs == rt_max].index[0]\n",
    "\n",
    "fav_m = tweets_df[tweets_df.Likes == fav_min].index[0]\n",
    "rt_m  = tweets_df[tweets_df.RTs == rt_min].index[0]\n",
    "\n",
    "# Max FAVs:\n",
    "print(\"O tweet com mais curtidas é: \\n{}\".format(tweets_df['Tweets'][fav]))\n",
    "print(\"Número de curtidas: {}\".format(fav_max))\n",
    "print(\"\\n\")\n",
    "# Max RTs:\n",
    "print(\"O tweet com mais retweet é: \\n{}\".format(tweets_df['Tweets'][rt]))\n",
    "print(\"Número de retweets: {}\".format(rt_max))\n",
    "print(\"\\n\")\n",
    "# Min FAVs:\n",
    "print(\"O tweet com menos curtidas é: \\n{}\".format(tweets_df['Tweets'][fav_m]))\n",
    "print(\"Número de curtidas: {}\".format(fav_min))\n",
    "print(\"\\n\")\n",
    "# Min RTs:\n",
    "print(\"O tweet com menos retweet é: \\n{}\".format(tweets_df['Tweets'][rt_m]))\n",
    "print(\"Número de retweets: {}\".format(rt_min))"
   ]
  },
  {
   "cell_type": "code",
   "execution_count": 15,
   "metadata": {
    "colab": {
     "base_uri": "https://localhost:8080/",
     "height": 335
    },
    "colab_type": "code",
    "id": "HxTnMwIOnpUq",
    "outputId": "5cf56f6f-742c-40f0-a6cc-bdb30a746fd4"
   },
   "outputs": [
    {
     "data": {
      "text/html": [
       "<div>\n",
       "<style scoped>\n",
       "    .dataframe tbody tr th:only-of-type {\n",
       "        vertical-align: middle;\n",
       "    }\n",
       "\n",
       "    .dataframe tbody tr th {\n",
       "        vertical-align: top;\n",
       "    }\n",
       "\n",
       "    .dataframe thead th {\n",
       "        text-align: right;\n",
       "    }\n",
       "</style>\n",
       "<table border=\"1\" class=\"dataframe\">\n",
       "  <thead>\n",
       "    <tr style=\"text-align: right;\">\n",
       "      <th></th>\n",
       "      <th>Tweets</th>\n",
       "      <th>len</th>\n",
       "      <th>ID</th>\n",
       "      <th>Date</th>\n",
       "      <th>Source</th>\n",
       "      <th>Likes</th>\n",
       "      <th>RTs</th>\n",
       "      <th>User Location</th>\n",
       "      <th>Geo</th>\n",
       "      <th>Coordinates</th>\n",
       "    </tr>\n",
       "  </thead>\n",
       "  <tbody>\n",
       "    <tr>\n",
       "      <th>28</th>\n",
       "      <td>Avião de Bolsonaro é obrigado a arremeter por ...</td>\n",
       "      <td>122</td>\n",
       "      <td>1306971621039710208</td>\n",
       "      <td>2020-09-18 15:01:31</td>\n",
       "      <td>TweetDeck</td>\n",
       "      <td>21335</td>\n",
       "      <td>2040</td>\n",
       "      <td>Brasil</td>\n",
       "      <td>None</td>\n",
       "      <td>None</td>\n",
       "    </tr>\n",
       "    <tr>\n",
       "      <th>23</th>\n",
       "      <td>Estados Unidos, Australia, Argentina, Ártico, ...</td>\n",
       "      <td>300</td>\n",
       "      <td>1307109601100341248</td>\n",
       "      <td>2020-09-19 00:09:48</td>\n",
       "      <td>Twitter for iPhone</td>\n",
       "      <td>10794</td>\n",
       "      <td>2451</td>\n",
       "      <td>São Paulo, Brasil</td>\n",
       "      <td>None</td>\n",
       "      <td>None</td>\n",
       "    </tr>\n",
       "    <tr>\n",
       "      <th>27</th>\n",
       "      <td>O avião de Bolsonaro arremeteu hoje no Mato Gr...</td>\n",
       "      <td>259</td>\n",
       "      <td>1307013569922445314</td>\n",
       "      <td>2020-09-18 17:48:12</td>\n",
       "      <td>Twitter for Android</td>\n",
       "      <td>9542</td>\n",
       "      <td>1177</td>\n",
       "      <td></td>\n",
       "      <td>None</td>\n",
       "      <td>None</td>\n",
       "    </tr>\n",
       "    <tr>\n",
       "      <th>0</th>\n",
       "      <td>Balanço da Semana: Cidades+Verdes CAU / Cadast...</td>\n",
       "      <td>140</td>\n",
       "      <td>1309680288965025793</td>\n",
       "      <td>2020-09-26 02:24:48</td>\n",
       "      <td>Twitter for iPhone</td>\n",
       "      <td>7083</td>\n",
       "      <td>1368</td>\n",
       "      <td>São Paulo, Brasil</td>\n",
       "      <td>None</td>\n",
       "      <td>None</td>\n",
       "    </tr>\n",
       "    <tr>\n",
       "      <th>9</th>\n",
       "      <td>Meu agradecimento para a equipe  de brigadista...</td>\n",
       "      <td>190</td>\n",
       "      <td>1309278892390309890</td>\n",
       "      <td>2020-09-24 23:49:47</td>\n",
       "      <td>Twitter for iPhone</td>\n",
       "      <td>7037</td>\n",
       "      <td>1287</td>\n",
       "      <td>São Paulo, Brasil</td>\n",
       "      <td>None</td>\n",
       "      <td>None</td>\n",
       "    </tr>\n",
       "    <tr>\n",
       "      <th>25</th>\n",
       "      <td>Discurso de Bolsonaro na ONU: as versões e os ...</td>\n",
       "      <td>299</td>\n",
       "      <td>1308417043977437184</td>\n",
       "      <td>2020-09-22 14:45:07</td>\n",
       "      <td>Twitter for iPhone</td>\n",
       "      <td>7002</td>\n",
       "      <td>1680</td>\n",
       "      <td>Rio de Janeiro, Brasil</td>\n",
       "      <td>None</td>\n",
       "      <td>None</td>\n",
       "    </tr>\n",
       "    <tr>\n",
       "      <th>24</th>\n",
       "      <td>O avião de Bolsonaro teve que arremeter por ca...</td>\n",
       "      <td>233</td>\n",
       "      <td>1307038033473142785</td>\n",
       "      <td>2020-09-18 19:25:25</td>\n",
       "      <td>Twitter Web App</td>\n",
       "      <td>6686</td>\n",
       "      <td>1172</td>\n",
       "      <td></td>\n",
       "      <td>None</td>\n",
       "      <td>None</td>\n",
       "    </tr>\n",
       "    <tr>\n",
       "      <th>4</th>\n",
       "      <td>F. Recursos para o enfrentamento às chamas do ...</td>\n",
       "      <td>301</td>\n",
       "      <td>1309445792969699328</td>\n",
       "      <td>2020-09-25 10:53:00</td>\n",
       "      <td>Twitter for iPhone</td>\n",
       "      <td>5793</td>\n",
       "      <td>1297</td>\n",
       "      <td>Brasília, Brasil</td>\n",
       "      <td>None</td>\n",
       "      <td>None</td>\n",
       "    </tr>\n",
       "    <tr>\n",
       "      <th>26</th>\n",
       "      <td>Racismo é estarmos em 2020 com negros, indígen...</td>\n",
       "      <td>275</td>\n",
       "      <td>1307390019909423112</td>\n",
       "      <td>2020-09-19 18:44:05</td>\n",
       "      <td>Twitter for iPhone</td>\n",
       "      <td>5099</td>\n",
       "      <td>1381</td>\n",
       "      <td></td>\n",
       "      <td>None</td>\n",
       "      <td>None</td>\n",
       "    </tr>\n",
       "    <tr>\n",
       "      <th>18</th>\n",
       "      <td>DOAÇÕES PARA OS POVOS INDÍGENAS ATINGIDOS PELA...</td>\n",
       "      <td>275</td>\n",
       "      <td>1307500501743865856</td>\n",
       "      <td>2020-09-20 02:03:06</td>\n",
       "      <td>Twitter for iPhone</td>\n",
       "      <td>4257</td>\n",
       "      <td>3616</td>\n",
       "      <td></td>\n",
       "      <td>None</td>\n",
       "      <td>None</td>\n",
       "    </tr>\n",
       "  </tbody>\n",
       "</table>\n",
       "</div>"
      ],
      "text/plain": [
       "                                               Tweets  len  \\\n",
       "28  Avião de Bolsonaro é obrigado a arremeter por ...  122   \n",
       "23  Estados Unidos, Australia, Argentina, Ártico, ...  300   \n",
       "27  O avião de Bolsonaro arremeteu hoje no Mato Gr...  259   \n",
       "0   Balanço da Semana: Cidades+Verdes CAU / Cadast...  140   \n",
       "9   Meu agradecimento para a equipe  de brigadista...  190   \n",
       "25  Discurso de Bolsonaro na ONU: as versões e os ...  299   \n",
       "24  O avião de Bolsonaro teve que arremeter por ca...  233   \n",
       "4   F. Recursos para o enfrentamento às chamas do ...  301   \n",
       "26  Racismo é estarmos em 2020 com negros, indígen...  275   \n",
       "18  DOAÇÕES PARA OS POVOS INDÍGENAS ATINGIDOS PELA...  275   \n",
       "\n",
       "                     ID                Date               Source  Likes   RTs  \\\n",
       "28  1306971621039710208 2020-09-18 15:01:31            TweetDeck  21335  2040   \n",
       "23  1307109601100341248 2020-09-19 00:09:48   Twitter for iPhone  10794  2451   \n",
       "27  1307013569922445314 2020-09-18 17:48:12  Twitter for Android   9542  1177   \n",
       "0   1309680288965025793 2020-09-26 02:24:48   Twitter for iPhone   7083  1368   \n",
       "9   1309278892390309890 2020-09-24 23:49:47   Twitter for iPhone   7037  1287   \n",
       "25  1308417043977437184 2020-09-22 14:45:07   Twitter for iPhone   7002  1680   \n",
       "24  1307038033473142785 2020-09-18 19:25:25      Twitter Web App   6686  1172   \n",
       "4   1309445792969699328 2020-09-25 10:53:00   Twitter for iPhone   5793  1297   \n",
       "26  1307390019909423112 2020-09-19 18:44:05   Twitter for iPhone   5099  1381   \n",
       "18  1307500501743865856 2020-09-20 02:03:06   Twitter for iPhone   4257  3616   \n",
       "\n",
       "             User Location   Geo Coordinates  \n",
       "28                  Brasil  None        None  \n",
       "23       São Paulo, Brasil  None        None  \n",
       "27                          None        None  \n",
       "0        São Paulo, Brasil  None        None  \n",
       "9        São Paulo, Brasil  None        None  \n",
       "25  Rio de Janeiro, Brasil  None        None  \n",
       "24                          None        None  \n",
       "4         Brasília, Brasil  None        None  \n",
       "26                          None        None  \n",
       "18                          None        None  "
      ]
     },
     "execution_count": 15,
     "metadata": {},
     "output_type": "execute_result"
    }
   ],
   "source": [
    "# Visualizar os tweets que tiveram mais likes\n",
    "\n",
    "top_likes=tweets_df.sort_values(by='Likes', ascending=False)\n",
    "top_likes[:10]"
   ]
  },
  {
   "cell_type": "markdown",
   "metadata": {
    "colab_type": "text",
    "id": "mstUSCGbV2_W"
   },
   "source": [
    "Tweets por dia"
   ]
  },
  {
   "cell_type": "code",
   "execution_count": 16,
   "metadata": {
    "colab": {},
    "colab_type": "code",
    "id": "gSPlIdt8V2_X",
    "outputId": "d1e18d50-8b33-43c4-baee-17448ecb4033"
   },
   "outputs": [
    {
     "data": {
      "image/png": "[encoded data removed]",
      "text/plain": [
       "<Figure size 1152x288 with 1 Axes>"
      ]
     },
     "metadata": {
      "needs_background": "light"
     },
     "output_type": "display_data"
    }
   ],
   "source": [
    "data = tweets_df\n",
    "\n",
    "data['Date'] = pd.to_datetime(data['Date']).apply(lambda x: x.date())\n",
    "\n",
    "tlen = pd.Series(data['Date'].value_counts(), index=data['Date'])\n",
    "tlen.plot(figsize=(16,4), color='r');"
   ]
  },
  {
   "cell_type": "markdown",
   "metadata": {},
   "source": [
    "Verificar quantas vezes por dia houve um retweet"
   ]
  },
  {
   "cell_type": "code",
   "execution_count": 17,
   "metadata": {
    "colab": {},
    "colab_type": "code",
    "id": "Ur7uwmAgnZnP"
   },
   "outputs": [],
   "source": [
    "# Separar os dados da coluna Date em 4 colunas (dia, mês, ano e hora)\n",
    "\n",
    "tweets_df['Date'] = pd.to_datetime(tweets_df['Date'])\n",
    "\n",
    "tweets_df['year']= tweets_df['Date'].dt.year\n",
    "tweets_df['Month']= tweets_df['Date'].dt.month\n",
    "tweets_df['hour']= tweets_df['Date'].dt.hour\n",
    "tweets_df['day']= tweets_df['Date'].dt.day"
   ]
  },
  {
   "cell_type": "code",
   "execution_count": 18,
   "metadata": {
    "colab": {
     "base_uri": "https://localhost:8080/",
     "height": 912
    },
    "colab_type": "code",
    "id": "bJsdjqKIXYTS",
    "outputId": "fdd5307f-f70c-47bb-da2d-f4b80e67b949"
   },
   "outputs": [
    {
     "data": {
      "text/plain": [
       "<matplotlib.axes._subplots.AxesSubplot at 0x1d6fb537f70>"
      ]
     },
     "execution_count": 18,
     "metadata": {},
     "output_type": "execute_result"
    },
    {
     "data": {
      "image/png": "[encoded data removed]",
      "text/plain": [
       "<Figure size 1080x1080 with 1 Axes>"
      ]
     },
     "metadata": {
      "needs_background": "light"
     },
     "output_type": "display_data"
    }
   ],
   "source": [
    "tweets_df.groupby('day').RTs.sum().plot(title='Quantas vezes por dia o twitter foi Retweetado',kind='bar', figsize=(15,15))\n"
   ]
  },
  {
   "cell_type": "code",
   "execution_count": 60,
   "metadata": {
    "colab": {
     "base_uri": "https://localhost:8080/",
     "height": 245
    },
    "colab_type": "code",
    "id": "hzBDG2rop7u8",
    "outputId": "154ed780-497f-4316-9753-4815235abbe5"
   },
   "outputs": [
    {
     "data": {
      "text/plain": [
       "31    &gt;@EstadaoEsporte Em vídeo, Lewis Hamilton f...\n",
       "32    Ricardo Salles culpa 'visão ideológica' por au...\n",
       "33    “As queimadas destruíram roças, queimaram casa...\n",
       "34    Bolsonaro ignora queimadas e desmatamento e di...\n",
       "36    Brasil sofre inquérito da ONU pelas queimadas,...\n",
       "37    O Ministro do Meio Ambiente @rsallesmma esteve...\n",
       "38    O Pantanal bateu o recorde histórico de queima...\n",
       "39    Você tem ideia da dimensão das queimadas no Pa...\n",
       "40    Recorde de queimadas, desmatamento, destruição...\n",
       "41    A Pública conversou com um agente do PrevFogo,...\n",
       "42    Dados de satélites são a base para o combate a...\n",
       "43    Bolsonaro ignora queimadas e desmatamento e di...\n",
       "44    A Marinha, por meio do Navio-Transporte Fluvia...\n",
       "45    Ainda neste ano, o Inpe também registrou a mai...\n",
       "Name: Tweets, dtype: object"
      ]
     },
     "execution_count": 60,
     "metadata": {},
     "output_type": "execute_result"
    }
   ],
   "source": [
    "tweets_df['Tweets'][tweets_df.day==17]"
   ]
  },
  {
   "cell_type": "markdown",
   "metadata": {
    "colab_type": "text",
    "id": "zUz6crgsV29l"
   },
   "source": [
    "Podemos verificar também de onde é a maior fonte de acessos dos tweets"
   ]
  },
  {
   "cell_type": "code",
   "execution_count": 20,
   "metadata": {
    "colab": {},
    "colab_type": "code",
    "id": "spoqWAWUV29m"
   },
   "outputs": [],
   "source": [
    "sources = []\n",
    "for source in tweets_df['Source']:\n",
    "    if source not in sources:\n",
    "        sources.append(source)\n",
    "\n",
    "percent = np.zeros(len(sources))\n",
    "\n",
    "for source in tweets_df['Source']:\n",
    "    for index in range(len(sources)):\n",
    "        if source == sources[index]:\n",
    "            percent[index] += 1\n",
    "            pass"
   ]
  },
  {
   "cell_type": "code",
   "execution_count": 21,
   "metadata": {
    "colab": {
     "base_uri": "https://localhost:8080/",
     "height": 265
    },
    "colab_type": "code",
    "id": "wtqLpB9sV29u",
    "outputId": "113c3a38-60e8-407c-f606-8a563a99b1be"
   },
   "outputs": [
    {
     "data": {
      "image/png": "[encoded data removed]",
      "text/plain": [
       "<Figure size 432x288 with 1 Axes>"
      ]
     },
     "metadata": {
      "needs_background": "light"
     },
     "output_type": "display_data"
    }
   ],
   "source": [
    "newDF = pd.DataFrame({\n",
    " 'source':percent,\n",
    "}, index=sources)\n",
    "\n",
    "sources_sorted = newDF.sort_values('source',ascending=False)\n",
    "ax = sources_sorted.source.plot(kind='barh',color='#002060')\n",
    "ax.get_xaxis().set_major_formatter(plt.FuncFormatter(lambda x, loc: \"{:,}\".format(int(x))))"
   ]
  },
  {
   "cell_type": "markdown",
   "metadata": {
    "colab_type": "text",
    "id": "zd5LR0arV294"
   },
   "source": [
    "Análise de sentimento utilizando TextBlob. \n",
    "Obs: Neste caso, os termos em português serão traduzidos, pois TextBlob trabalha apenas com termos em inglês. "
   ]
  },
  {
   "cell_type": "markdown",
   "metadata": {
    "colab_type": "text",
    "id": "tiXWJlswV295"
   },
   "source": [
    "Treinando o modelo\n",
    "\n",
    "Obs: O ReLi (REsenha de LIvros) foi criado no âmbito do projeto Anotadores Semânticos baseados em Aprendizado Ativo, do LEARN, coordenado por Ruy Milidiú (Departamento de Informática - PUC-Rio). Consiste em 1600 resenhas de livros anotadas manualmente quanto à presença de opinião sobre o livro resenhado e sua polaridade. (Disponivel em https://www.linguateca.pt/Repositorio/ReLi/)"
   ]
  },
  {
   "cell_type": "code",
   "execution_count": 22,
   "metadata": {
    "colab": {
     "base_uri": "https://localhost:8080/",
     "height": 223
    },
    "colab_type": "code",
    "id": "aD1fF3tiV296",
    "outputId": "da3f0efb-d439-49c2-a5cb-715d5bae9e8e"
   },
   "outputs": [],
   "source": [
    "base_path = 'C:/Users/Lídia/Desktop/Python/Projeto_01/ReLi-Lex' \n",
    "train = []\n",
    "wordsPT = []\n",
    "wordsPT_sentiments = []\n",
    "\n",
    "files = [os.path.join(base_path, f) for f in os.listdir(base_path)]\n",
    "\n",
    "for file in files:\n",
    "    t = 1 if '_Positivos' in file else -1\n",
    "    with open(file, 'r') as content_file:\n",
    "        content = content_file.read()\n",
    "        all = re.findall('\\[.*?\\]',content)\n",
    "        for w in all:\n",
    "            wordsPT.append((w[1:-1]))\n",
    "            wordsPT_sentiments.append(t)\n",
    "            train.append((w[1:-1], t))\n",
    "\n",
    "cl = NaiveBayesClassifier(train)"
   ]
  },
  {
   "cell_type": "code",
   "execution_count": 23,
   "metadata": {
    "colab": {},
    "colab_type": "code",
    "id": "OS_D83WKV2-C"
   },
   "outputs": [],
   "source": [
    "def clean_tweet(tweet):\n",
    "    return ' '.join(re.sub(\"(@[A-Za-z0-9]+)|([^0-9A-Za-z \\t])|(\\w+:\\/\\/\\S+)\", \" \", tweet).split())"
   ]
  },
  {
   "cell_type": "code",
   "execution_count": 24,
   "metadata": {
    "colab": {},
    "colab_type": "code",
    "id": "DxSqmrNLV2-I"
   },
   "outputs": [],
   "source": [
    "def sentiment(tweet):\n",
    "    \n",
    "    polarity = 0\n",
    "    \n",
    "    #blob = TextBlob(tweet, classifier=cl)\n",
    "    blob = TextBlob(clean_tweet(tweet), classifier=cl) #Clean Tweets\n",
    "    \n",
    "    for s in blob.sentences:\n",
    "        polarity = s.classify() + polarity\n",
    "    \n",
    "    if polarity > 0:\n",
    "        return 1\n",
    "    elif polarity < 0:\n",
    "        return -1\n",
    "    else:\n",
    "        return 0"
   ]
  },
  {
   "cell_type": "code",
   "execution_count": 25,
   "metadata": {
    "colab": {},
    "colab_type": "code",
    "id": "miKrgKLuV2-O"
   },
   "outputs": [],
   "source": [
    "def analize_sentimentEN(tweet):\n",
    "    \n",
    "    analysis = TextBlob(tweet)\n",
    "    \n",
    "    if analysis.detect_language() != 'en':\n",
    "        analysis = TextBlob(str(analysis.translate(to='en')))\n",
    "        time.sleep(0.5)    \n",
    "        \n",
    "    if analysis.sentiment.polarity > 0:\n",
    "        return 1\n",
    "    elif analysis.sentiment.polarity == 0:\n",
    "        return 0\n",
    "    else:\n",
    "        return -1"
   ]
  },
  {
   "cell_type": "markdown",
   "metadata": {
    "colab_type": "text",
    "id": "Pl7wAAh4V2-V"
   },
   "source": [
    "Criar a coluna Classificação para armazenar os sentimentos"
   ]
  },
  {
   "cell_type": "code",
   "execution_count": 26,
   "metadata": {
    "colab": {},
    "colab_type": "code",
    "id": "ORHE1ViTV2-W"
   },
   "outputs": [],
   "source": [
    "tweets_df['Classificacao'] = np.array([ analize_sentimentEN(tweet) for tweet in tweets_df['Tweets'] ])"
   ]
  },
  {
   "cell_type": "markdown",
   "metadata": {
    "colab_type": "text",
    "id": "IjsCWUANV2-e"
   },
   "source": [
    "Nesta etapa iremos verificar os tweets positivos e negativos e em seguida imprimiremos na tela a porcentagem de tweets positivos e negativos encontrados"
   ]
  },
  {
   "cell_type": "code",
   "execution_count": 27,
   "metadata": {
    "colab": {},
    "colab_type": "code",
    "id": "69OmycCWV2-f"
   },
   "outputs": [],
   "source": [
    "pos_tweets = [ tweet for index, tweet in enumerate(tweets_df['Tweets']) if tweets_df['Classificacao'][index] > 0]\n",
    "neg_tweets = [ tweet for index, tweet in enumerate(tweets_df['Tweets']) if tweets_df['Classificacao'][index] < 0]"
   ]
  },
  {
   "cell_type": "code",
   "execution_count": 28,
   "metadata": {
    "colab": {},
    "colab_type": "code",
    "id": "-B36tFYTV2-n",
    "outputId": "b121c77a-6b15-4173-be9a-6ccae610b65b",
    "tags": []
   },
   "outputs": [
    {
     "name": "stdout",
     "output_type": "stream",
     "text": [
      "Porcentagem de Tweets Positivos: 32.608695652173914%\n",
      "Porcentagem de Tweets Negativos: 26.08695652173913%\n"
     ]
    }
   ],
   "source": [
    "print(\"Porcentagem de Tweets Positivos: {}%\".format(len(pos_tweets)*100/len(tweets_df['Tweets'])))\n",
    "print(\"Porcentagem de Tweets Negativos: {}%\".format(len(neg_tweets)*100/len(tweets_df['Tweets'])))"
   ]
  },
  {
   "cell_type": "markdown",
   "metadata": {
    "colab_type": "text",
    "id": "UBbs2onbV2-t"
   },
   "source": [
    "Representação gráfica"
   ]
  },
  {
   "cell_type": "code",
   "execution_count": 29,
   "metadata": {
    "colab": {},
    "colab_type": "code",
    "id": "ij88HtHmV2-v"
   },
   "outputs": [],
   "source": [
    "sentimento = [len(pos_tweets), len(neg_tweets)]\n",
    "labels = ['Positivo' , 'Negativo']"
   ]
  },
  {
   "cell_type": "code",
   "execution_count": 30,
   "metadata": {
    "colab": {},
    "colab_type": "code",
    "id": "dYGehnW5V2-2",
    "outputId": "7d2d6715-fb61-4dcd-f7dc-035117b47e80"
   },
   "outputs": [
    {
     "data": {
      "image/png": "[encoded data removed]",
      "text/plain": [
       "<Figure size 432x288 with 1 Axes>"
      ]
     },
     "metadata": {},
     "output_type": "display_data"
    }
   ],
   "source": [
    "explode = (0.1, 0)\n",
    "plt.pie(sentimento, labels=labels, autopct='%1.1f%%', shadow=True, explode=explode)\n",
    "plt.legend(sentimento, loc=2)\n",
    "plt.title('Análise de Sentimentos Twitter') # adicionando o título do gráfico\n",
    "plt.axis('equal')\n",
    "plt.show()"
   ]
  },
  {
   "cell_type": "code",
   "execution_count": 31,
   "metadata": {
    "colab": {},
    "colab_type": "code",
    "id": "_D5DdXvdV2-8"
   },
   "outputs": [],
   "source": [
    "\n",
    "stopwords= set(STOPWORDS)\n",
    "\n",
    "new_words = []\n",
    "with open(\"stopwords.txt\", 'r') as f:\n",
    "    [new_words.append(word) for line in f for word in line.split()]\n",
    "\n",
    "new_stopwords = stopwords.union(new_words)"
   ]
  },
  {
   "cell_type": "code",
   "execution_count": 32,
   "metadata": {
    "colab": {},
    "colab_type": "code",
    "id": "cPF9wal2V2_G"
   },
   "outputs": [],
   "source": [
    "words = ' '.join(tweets_df['Tweets'])\n",
    "\n",
    "words_clean = \" \".join([word for word in words.split()\n",
    "                            if 'https' not in word\n",
    "                                and not word.startswith('@')\n",
    "                                and word != 'RT'\n",
    "                            ])"
   ]
  },
  {
   "cell_type": "code",
   "execution_count": 33,
   "metadata": {
    "colab": {},
    "colab_type": "code",
    "id": "EP1LyMFTV2_N",
    "outputId": "ec0e6303-eb14-45cc-aa3e-c247c31a6ed2",
    "scrolled": true
   },
   "outputs": [
    {
     "data": {
      "image/png": "[encoded data removed]",
      "text/plain": [
       "<Figure size 432x288 with 1 Axes>"
      ]
     },
     "metadata": {
      "needs_background": "light"
     },
     "output_type": "display_data"
    }
   ],
   "source": [
    "from imageio import imread\n",
    "import warnings\n",
    "\n",
    "warnings.simplefilter('ignore')\n",
    "\n",
    "twitter_mask = imread('C:/Users/Lídia/Desktop/Python/Projeto_01/brasil.png')\n",
    "\n",
    "wc = WordCloud(min_font_size=10, \n",
    "               max_font_size=300, \n",
    "               background_color='white', \n",
    "               mode=\"RGB\",\n",
    "               stopwords=new_stopwords,\n",
    "               width=2000, \n",
    "               height=1000,\n",
    "               mask=twitter_mask,\n",
    "               normalize_plurals= True).generate(words_clean)\n",
    "\n",
    "plt.imshow(wc, interpolation=\"bilinear\")\n",
    "plt.axis(\"off\")\n",
    "plt.savefig('brasilword.png', dpi=300)\n",
    "plt.show()"
   ]
  },
  {
   "cell_type": "markdown",
   "metadata": {
    "colab_type": "text",
    "id": "cv2wtLalV2_g"
   },
   "source": [
    "Processamento dos dados utilizando Stopwords e limpando os dados, removendo links, pontos, virgulas, ponto e virgula dos tweets (NLTK)"
   ]
  },
  {
   "cell_type": "code",
   "execution_count": 34,
   "metadata": {
    "colab": {},
    "colab_type": "code",
    "id": "w8lKY-QcV2_h"
   },
   "outputs": [],
   "source": [
    "def Preprocessing(instancia):\n",
    "     instancia = re.sub(r\"http\\S+\", \"\", instancia).lower().replace('.','').replace(';','').replace('-','').replace(':','').replace(')','').replace('\"','')\n",
    "     stopwords = set(nltk.corpus.stopwords.words('portuguese'))\n",
    "     palavras = [i for i in instancia.split() if not i in stopwords]\n",
    "     return (\" \".join(palavras))"
   ]
  },
  {
   "cell_type": "code",
   "execution_count": 35,
   "metadata": {
    "colab": {},
    "colab_type": "code",
    "id": "jGi4UqoAV2_n"
   },
   "outputs": [],
   "source": [
    "# Aplica a função em todos os dados:\n",
    "tweets = [Preprocessing(i) for i in tweets]"
   ]
  },
  {
   "cell_type": "code",
   "execution_count": 36,
   "metadata": {
    "colab": {},
    "colab_type": "code",
    "id": "6Ht2dG5-V2_r",
    "outputId": "46d86f3c-6ce0-42b9-ebc7-c809a6736ca4"
   },
   "outputs": [
    {
     "data": {
      "text/plain": [
       "['balanço semana cidades+verdes cau / cadastro ambiental rural audiência pública combate queimadas pantanal',\n",
       " 'focos incêndio acometem pantanal outros biomas brasileiros, área queimada todo território nacional menor últimos 18 anos dados @inpe_mct revelam 2007 ano brasil sofreu queimadas',\n",
       " 'queimadas novidade felizmente, situação recente melhor fatos evidenciam toda histeria torno questão ambiental passa narrativa mentirosa, criada desgastar governo brasil representantes',\n",
       " 'imagine fazer parte grupo facebook whatsapp alguém manda foto mostrando floresta pegando fogo animal morto queimadas imediatamente considera inimigo “comunista” significa tornou monstro percebeu',\n",
       " 'f recursos enfrentamento chamas pantanal @mdregional_br destina r$ 13,9 milhões combate queimadas aquisição equipamentos, locação veículos, maquinários aeronaves realização 32 ações mato grosso 37 mato grosso sul @rogeriosmarinho',\n",
       " '“índios caboclos?” pf provas indiciar fazendeiros ms queimadas pantanal 25/09/2020 uol notícias @uolnoticias #uol',\n",
       " 'informações sobre queimadas compartilhe pessoas informem maneira correta!',\n",
       " 'gov reduziu verbas p/ brigadas incêndio florestal 58% 1 ano r$23,78 mi 2019 p/ r$9,99 mi 2020 verbas p/ combater fiscalizar queimadas, gov usou apenas 36% ano r$173,8 mi liberados, utilizados r$61,8 mi agr clamam p/ pedro 🤡',\n",
       " 'país preserve brasil! além liberação r$ 13,9 milhões enfrentamento queimadas pantanal, governo federal investe série programas voltados preservação proteção meio ambiente',\n",
       " 'agradecimento equipe brigadistas mg, além outras equipe outras partes brasil, vieram ajudar nesse combate queimadas pantanal!',\n",
       " \"'eu vi face horror', diz fotógrafo araquém alcântara, retrata natureza brasileira 50 anos, sobre queimadas pantanal #g1\",\n",
       " 'pf provas indiciar fazendeiros ms queimadas pantanal menos quatro fazendeiros região serra amolar podem ser indiciados via @uolnoticias @uol',\n",
       " 'pantanal sofre maior número queimadas história tragédia origem natural povos indígenas responsáveis presidente estelionatário mentiroso compulsivo capaz falar absurdos!',\n",
       " 'agora? via terra brasil segundo reportagem portal, dado revela número queimadas todo país ano cinco vezes menor 2007',\n",
       " \"fogo destruiu 25 mil hectares #pantanal ms começou grandes fazendas, transformar mata pastagem, aponta pf advogado diz fazendeiros colabora investigações 'pois vítimas queimadas' #ajudapantanal\",\n",
       " 'trás queimadas garimpo agronegócio, ambos apoiados protegidos bolsonaro !',\n",
       " '#operaçãopantanal ontem hoje (24, apoio ações combate focos queimadas bioma pantanal, marinha, meio aeronave super cougar, realizou infiltração brigadistas @icmbio reserva taiamã, mato grosso',\n",
       " 'convocação ministro salles convocado explicar falta ação governo combate queimadas sobrevoou pantanal chamas fez absolutamente nada, colocou nada disposição”, criticou dep @prof_rosaneide leia',\n",
       " 'doações povos indígenas atingidos queimadas pantanal mato grosso (mt caixa econômica federal agência 0016 op 013 conta poupança conta 000823421 favorecido federação povos organizações indígenas mato grosso cnpj 32678220/000165 +++',\n",
       " '⚠️ nessa sexta (25, vai ter ato mundial defesa meio ambiente contra queimadas criminosas país paulo, manifestação frente sede ibama importante mobilização denunciar crimes salles bolsonaro #chegadequeimadas',\n",
       " 'relação ano passado, 507 brigadistas mais, participando ações conjuntas órgãos estaduais, forças armadas outras brigadas combate queimadas pantanal fonte ministério meio ambiente',\n",
       " '#fantástico acesso detalhes inquérito investiga origem focos queimadas pantanal imagens satélite mostraram caminho fogo polícia federal suspeita ação criminosa criadores gado região',\n",
       " 'lewis hamilton protagoniza vídeo denuncia queimadas amazônia mundo | revista fórum',\n",
       " 'estados unidos, australia, argentina, ártico, pantanal, siberiaincêndios florestais ocorrendo mundo todo total empenho governo federal combate queimadas assistência pessoas animais centenas brigadistas, aviões, helicópteros recursos empregados',\n",
       " 'avião bolsonaro arremeter causa fumaça queimadas pantanal dia dizer brasil parabéns preservação ambiental bolsonaro pode fingir ouve, natureza segue gritando',\n",
       " 'discurso bolsonaro onu versões fatos ✔️”os focos criminosos (de queimadas combatidos rigor determinação” 👇🏼 (presidente jamais cobrou punição responsáveis “dia fogo” pará desmobilizou aparato prevenção combate fogo ⬇️',\n",
       " 'racismo estarmos 2020 negros, indígenas, ciganos outros vivendo margem racismo ministra direitos humanos pedindo vetado acesso água potável uti indígenas pandemia racismo comunidades tradicionais serem afetadas queimadas',\n",
       " 'avião bolsonaro arremeteu hoje mato grosso causa fumaça queimadas pantanal estado compromissos agronegócio considera incêndios normais parece natureza concorda deu jeito mostrar',\n",
       " 'avião bolsonaro obrigado arremeter causa queimadas mt #g1',\n",
       " 'resumo discurso bolsonaro onu auxílio emergencial parcelas 1000 dólares promove queimadas índios caboclos combate cristofobia prioridade puxasaco trump acordos próisrael sujeito fábrica fake news sandices',\n",
       " 'citar governo bolsonaro, piloto participou campanha wwf, diz “queimadas deliberadas, focadas desmatamento, causam devastação generalizada sofrimento inimaginável comunidades indígenas”',\n",
       " '&gt@estadaoesporte vídeo, lewis hamilton faz campanha conter queimadas amazônia',\n",
       " \"ricardo salles culpa 'visão ideológica' aumento queimadas\",\n",
       " '“as queimadas destruíram roças, queimaram casas muitos preocupado matas porque retiramos sustento, medicações tradicionais queimada, tudo comprometido tudo acabando”, diz alessandra guató, povo guató',\n",
       " \"bolsonaro ignora queimadas desmatamento diz brasil 'parabéns' questão ambiental 'é país preserva meio ambiente'\",\n",
       " 'vídeo ‘o tempo esgotando’, diz hamilton campanha contra queimadas amazônia',\n",
       " 'brasil sofre inquérito onu queimadas, desmatamentos violações direitos humanos',\n",
       " 'ministro meio ambiente @rsallesmma vivo @programapanico, falando verdade sobre amazônia, pantanal, queimadas outros assuntos assista online link',\n",
       " 'pantanal bateu recorde histórico queimadas mês setembro, bolsonaro disse brasil parabéns cuidado meio ambiente criminosa forma presidente mente povo governo faz verdadeiro genocídio florestas',\n",
       " 'ideia dimensão queimadas pantanal? imagem mostra focos incêndio região terra guató apenas julho setembro fogo varreu terra parque estadual encontro águas 👇🏽',\n",
       " 'recorde queimadas, desmatamento, destruição biomas, fauna, flora bolsonaro diz brasil “parabéns preservação ambiental”? cinismo!',\n",
       " 'pública conversou agente prevfogo, sistema nacional prevenção combate incêndios florestais, quis identificar segundo servidor, monitoramentos meteorológicos apontavam intensificação queimadas 2020, governo demorou agir',\n",
       " 'dados satélites base combate desmatamento queimadas, devem ser públicos chefe conselho amazônia deveria saber ciência faz transparência #inimigodomeioambiente',\n",
       " \"bolsonaro ignora queimadas desmatamento diz brasil 'parabéns' questão ambiental\",\n",
       " 'marinha, meio naviotransporte fluvial “almirante leverger”, apoiou, ontem (16, combate incêndio pontual vegetação região porto manga, 75 quilômetros corumbáms incidente relação focos anteriores queimadas pantanal',\n",
       " 'ainda neste ano, inpe registrou maior taxa contabilizada focos incêndio bioma, 15756 registrados']"
      ]
     },
     "execution_count": 36,
     "metadata": {},
     "output_type": "execute_result"
    }
   ],
   "source": [
    "tweets[:50]"
   ]
  },
  {
   "cell_type": "markdown",
   "metadata": {
    "colab_type": "text",
    "id": "MMLVwbYtV2_x"
   },
   "source": [
    "Tokenização\n",
    "- Existe uma biblioteca que possui um pacote específico de tweets"
   ]
  },
  {
   "cell_type": "code",
   "execution_count": 37,
   "metadata": {
    "colab": {},
    "colab_type": "code",
    "id": "NB0RDTyyV2_y"
   },
   "outputs": [],
   "source": [
    "from nltk.tokenize import TweetTokenizer"
   ]
  },
  {
   "cell_type": "code",
   "execution_count": 38,
   "metadata": {
    "colab": {},
    "colab_type": "code",
    "id": "bgC0z3IeV2_4"
   },
   "outputs": [],
   "source": [
    "tweet_tokenizer = TweetTokenizer()"
   ]
  },
  {
   "cell_type": "code",
   "execution_count": 39,
   "metadata": {
    "colab": {},
    "colab_type": "code",
    "id": "47fesSoZV2_8"
   },
   "outputs": [],
   "source": [
    "for token , row in tweets_df.iterrows():\n",
    "    tk=tweet_tokenizer.tokenize(str(row['Tweets']).lower())"
   ]
  },
  {
   "cell_type": "code",
   "execution_count": 40,
   "metadata": {
    "colab": {},
    "colab_type": "code",
    "id": "JcmGQCn9V3AB"
   },
   "outputs": [],
   "source": [
    "    df_token_tmp = pd.DataFrame()\n",
    "    df_token_tmp[\"Palavra\"] = [palavra for palavra in tk if palavra not in stopwords]\n",
    "    df_token_tmp[\"Classificacao\"] = row['Classificacao']\n"
   ]
  },
  {
   "cell_type": "code",
   "execution_count": 41,
   "metadata": {
    "colab": {},
    "colab_type": "code",
    "id": "ek3oCRpSV3AH",
    "outputId": "96f90d6a-52f8-4cb0-8e3c-8dd983f306b1"
   },
   "outputs": [
    {
     "data": {
      "text/html": [
       "<div>\n",
       "<style scoped>\n",
       "    .dataframe tbody tr th:only-of-type {\n",
       "        vertical-align: middle;\n",
       "    }\n",
       "\n",
       "    .dataframe tbody tr th {\n",
       "        vertical-align: top;\n",
       "    }\n",
       "\n",
       "    .dataframe thead th {\n",
       "        text-align: right;\n",
       "    }\n",
       "</style>\n",
       "<table border=\"1\" class=\"dataframe\">\n",
       "  <thead>\n",
       "    <tr style=\"text-align: right;\">\n",
       "      <th></th>\n",
       "      <th>Palavra</th>\n",
       "      <th>Classificacao</th>\n",
       "    </tr>\n",
       "  </thead>\n",
       "  <tbody>\n",
       "    <tr>\n",
       "      <th>0</th>\n",
       "      <td>ainda</td>\n",
       "      <td>0</td>\n",
       "    </tr>\n",
       "    <tr>\n",
       "      <th>1</th>\n",
       "      <td>neste</td>\n",
       "      <td>0</td>\n",
       "    </tr>\n",
       "    <tr>\n",
       "      <th>2</th>\n",
       "      <td>ano</td>\n",
       "      <td>0</td>\n",
       "    </tr>\n",
       "    <tr>\n",
       "      <th>3</th>\n",
       "      <td>,</td>\n",
       "      <td>0</td>\n",
       "    </tr>\n",
       "    <tr>\n",
       "      <th>4</th>\n",
       "      <td>o</td>\n",
       "      <td>0</td>\n",
       "    </tr>\n",
       "    <tr>\n",
       "      <th>5</th>\n",
       "      <td>inpe</td>\n",
       "      <td>0</td>\n",
       "    </tr>\n",
       "    <tr>\n",
       "      <th>6</th>\n",
       "      <td>também</td>\n",
       "      <td>0</td>\n",
       "    </tr>\n",
       "    <tr>\n",
       "      <th>7</th>\n",
       "      <td>registrou</td>\n",
       "      <td>0</td>\n",
       "    </tr>\n",
       "    <tr>\n",
       "      <th>8</th>\n",
       "      <td>maior</td>\n",
       "      <td>0</td>\n",
       "    </tr>\n",
       "    <tr>\n",
       "      <th>9</th>\n",
       "      <td>taxa</td>\n",
       "      <td>0</td>\n",
       "    </tr>\n",
       "    <tr>\n",
       "      <th>10</th>\n",
       "      <td>já</td>\n",
       "      <td>0</td>\n",
       "    </tr>\n",
       "    <tr>\n",
       "      <th>11</th>\n",
       "      <td>contabilizada</td>\n",
       "      <td>0</td>\n",
       "    </tr>\n",
       "    <tr>\n",
       "      <th>12</th>\n",
       "      <td>de</td>\n",
       "      <td>0</td>\n",
       "    </tr>\n",
       "    <tr>\n",
       "      <th>13</th>\n",
       "      <td>focos</td>\n",
       "      <td>0</td>\n",
       "    </tr>\n",
       "    <tr>\n",
       "      <th>14</th>\n",
       "      <td>de</td>\n",
       "      <td>0</td>\n",
       "    </tr>\n",
       "    <tr>\n",
       "      <th>15</th>\n",
       "      <td>incêndio</td>\n",
       "      <td>0</td>\n",
       "    </tr>\n",
       "    <tr>\n",
       "      <th>16</th>\n",
       "      <td>bioma</td>\n",
       "      <td>0</td>\n",
       "    </tr>\n",
       "    <tr>\n",
       "      <th>17</th>\n",
       "      <td>,</td>\n",
       "      <td>0</td>\n",
       "    </tr>\n",
       "    <tr>\n",
       "      <th>18</th>\n",
       "      <td>foram</td>\n",
       "      <td>0</td>\n",
       "    </tr>\n",
       "    <tr>\n",
       "      <th>19</th>\n",
       "      <td>15.756</td>\n",
       "      <td>0</td>\n",
       "    </tr>\n",
       "    <tr>\n",
       "      <th>20</th>\n",
       "      <td>registrados</td>\n",
       "      <td>0</td>\n",
       "    </tr>\n",
       "    <tr>\n",
       "      <th>21</th>\n",
       "      <td>https://t.co/ttwdgl1djj</td>\n",
       "      <td>0</td>\n",
       "    </tr>\n",
       "  </tbody>\n",
       "</table>\n",
       "</div>"
      ],
      "text/plain": [
       "                    Palavra  Classificacao\n",
       "0                     ainda              0\n",
       "1                     neste              0\n",
       "2                       ano              0\n",
       "3                         ,              0\n",
       "4                         o              0\n",
       "5                      inpe              0\n",
       "6                    também              0\n",
       "7                 registrou              0\n",
       "8                     maior              0\n",
       "9                      taxa              0\n",
       "10                       já              0\n",
       "11            contabilizada              0\n",
       "12                       de              0\n",
       "13                    focos              0\n",
       "14                       de              0\n",
       "15                 incêndio              0\n",
       "16                    bioma              0\n",
       "17                        ,              0\n",
       "18                    foram              0\n",
       "19                   15.756              0\n",
       "20              registrados              0\n",
       "21  https://t.co/ttwdgl1djj              0"
      ]
     },
     "execution_count": 41,
     "metadata": {},
     "output_type": "execute_result"
    }
   ],
   "source": [
    "df_token_tmp[:50]"
   ]
  },
  {
   "cell_type": "code",
   "execution_count": 42,
   "metadata": {
    "colab": {},
    "colab_type": "code",
    "id": "V24eTgHrV3AM"
   },
   "outputs": [],
   "source": [
    "vectorizer = CountVectorizer(analyzer=\"word\", tokenizer=tweet_tokenizer.tokenize)"
   ]
  },
  {
   "cell_type": "code",
   "execution_count": 43,
   "metadata": {
    "colab": {},
    "colab_type": "code",
    "id": "7LDF9kIcV3AS",
    "outputId": "61e4cbd1-645f-4d51-91f6-28b1d58e2480"
   },
   "outputs": [
    {
     "data": {
      "text/plain": [
       "scipy.sparse.csr.csr_matrix"
      ]
     },
     "execution_count": 43,
     "metadata": {},
     "output_type": "execute_result"
    }
   ],
   "source": [
    "freq_tweets = vectorizer.fit_transform(tweets)\n",
    "type(freq_tweets)"
   ]
  },
  {
   "cell_type": "code",
   "execution_count": 44,
   "metadata": {
    "colab": {},
    "colab_type": "code",
    "id": "q8ipPYPhV3Aa"
   },
   "outputs": [],
   "source": [
    "# Separando tweets e suas classes:\n",
    "tweets = tweets_df['Tweets']\n",
    "classes = tweets_df['Classificacao']"
   ]
  },
  {
   "cell_type": "code",
   "execution_count": 45,
   "metadata": {
    "colab": {},
    "colab_type": "code",
    "id": "KzLkd6RPV3Ak",
    "outputId": "d7f37d4d-572a-41ef-af82-45ce1c6df1f7"
   },
   "outputs": [
    {
     "data": {
      "text/plain": [
       "MultinomialNB()"
      ]
     },
     "execution_count": 45,
     "metadata": {},
     "output_type": "execute_result"
    }
   ],
   "source": [
    "modelo = MultinomialNB()\n",
    "modelo.fit(freq_tweets,classes)"
   ]
  },
  {
   "cell_type": "code",
   "execution_count": 46,
   "metadata": {
    "colab": {},
    "colab_type": "code",
    "id": "oOSjm_UyV3As"
   },
   "outputs": [],
   "source": [
    "freq_testes = vectorizer.transform(tweets_df)"
   ]
  },
  {
   "cell_type": "code",
   "execution_count": 47,
   "metadata": {
    "colab": {},
    "colab_type": "code",
    "id": "fi8Oz8KTV3A0",
    "outputId": "9483eba8-482d-4a23-fe3b-4dfcafba4af0",
    "tags": []
   },
   "outputs": [
    {
     "name": "stdout",
     "output_type": "stream",
     "text": [
      "[-1  0  1]\n",
      "[-1  0  1]\n",
      "[-1  0  1]\n",
      "[-1  0  1]\n",
      "[-1  0  1]\n",
      "[-1  0  1]\n",
      "[-1  0  1]\n",
      "[-1  0  1]\n",
      "[-1  0  1]\n",
      "[-1  0  1]\n",
      "[-1  0  1]\n",
      "[-1  0  1]\n",
      "[-1  0  1]\n",
      "[-1  0  1]\n",
      "[-1  0  1]\n"
     ]
    },
    {
     "data": {
      "text/plain": [
       "array([[0.26, 0.41, 0.33],\n",
       "       [0.26, 0.41, 0.33],\n",
       "       [0.26, 0.41, 0.33],\n",
       "       [0.26, 0.41, 0.33],\n",
       "       [0.26, 0.41, 0.33],\n",
       "       [0.26, 0.41, 0.33],\n",
       "       [0.26, 0.41, 0.33],\n",
       "       [0.26, 0.41, 0.33],\n",
       "       [0.26, 0.41, 0.33],\n",
       "       [0.26, 0.41, 0.33],\n",
       "       [0.26, 0.41, 0.33],\n",
       "       [0.26, 0.41, 0.33],\n",
       "       [0.26, 0.41, 0.33],\n",
       "       [0.26, 0.41, 0.33],\n",
       "       [0.26, 0.41, 0.33]])"
      ]
     },
     "execution_count": 47,
     "metadata": {},
     "output_type": "execute_result"
    }
   ],
   "source": [
    "for t, c in zip (tweets_df,modelo.predict(freq_testes)):\n",
    "    print (modelo.classes_)\n",
    "modelo.predict_proba(freq_testes).round(2)"
   ]
  },
  {
   "cell_type": "code",
   "execution_count": 48,
   "metadata": {
    "colab": {},
    "colab_type": "code",
    "id": "jAtpt64EV3A_"
   },
   "outputs": [],
   "source": [
    "tweetsarray = []\n",
    "\n",
    "for tw in tweets_df['Tweets']:\n",
    "    text = clean_tweet(tw)\n",
    "    tweetsarray.append(text)"
   ]
  },
  {
   "cell_type": "code",
   "execution_count": 49,
   "metadata": {
    "colab": {},
    "colab_type": "code",
    "id": "TxG9WMEBV3BD"
   },
   "outputs": [],
   "source": [
    "predictionData = vectorizer.transform(tweets_df['Tweets'])\n",
    "tweets_df['Classificacao NLTK'] = modelo.predict(predictionData)"
   ]
  },
  {
   "cell_type": "code",
   "execution_count": 50,
   "metadata": {
    "colab": {},
    "colab_type": "code",
    "id": "8IHLtzqXV3BP"
   },
   "outputs": [],
   "source": [
    "pos_tweets = [ tweet for index, tweet in enumerate(tweets_df['Tweets']) if tweets_df['Classificacao NLTK'][index] > 0]\n",
    "neg_tweets = [ tweet for index, tweet in enumerate(tweets_df['Tweets']) if tweets_df['Classificacao NLTK'][index] < 0]"
   ]
  },
  {
   "cell_type": "code",
   "execution_count": 51,
   "metadata": {
    "colab": {},
    "colab_type": "code",
    "id": "WOsHen0tV3BT",
    "outputId": "3b8a5ba7-3ee1-4bc0-ec8f-eeda6b874eb6",
    "tags": []
   },
   "outputs": [
    {
     "name": "stdout",
     "output_type": "stream",
     "text": [
      "Porcentagem de Tweets Positivos: 32.608695652173914%\n",
      "Porcentagem de Tweets Negativos: 26.08695652173913%\n"
     ]
    }
   ],
   "source": [
    "print(\"Porcentagem de Tweets Positivos: {}%\".format(len(pos_tweets)*100/len(tweets_df['Tweets'])))\n",
    "print(\"Porcentagem de Tweets Negativos: {}%\".format(len(neg_tweets)*100/len(tweets_df['Tweets'])))"
   ]
  },
  {
   "cell_type": "code",
   "execution_count": 52,
   "metadata": {
    "colab": {},
    "colab_type": "code",
    "id": "YzIo6htRV3Bg"
   },
   "outputs": [],
   "source": [
    "sentimento = [len(pos_tweets), len(neg_tweets)]\n",
    "labels = ['Positivo' , 'Negativo']"
   ]
  },
  {
   "cell_type": "code",
   "execution_count": 53,
   "metadata": {
    "colab": {},
    "colab_type": "code",
    "id": "mrl4NBljV3Bk",
    "outputId": "679d6c10-da73-4a55-ec17-f33a7a108b53"
   },
   "outputs": [
    {
     "data": {
      "image/png": "[encoded data removed]",
      "text/plain": [
       "<Figure size 432x288 with 1 Axes>"
      ]
     },
     "metadata": {},
     "output_type": "display_data"
    }
   ],
   "source": [
    "explode = (0.1, 0)\n",
    "plt.pie(sentimento, labels=labels, autopct='%1.1f%%', shadow=True, explode=explode)\n",
    "plt.legend(sentimento, loc=2)\n",
    "plt.title('Análise Sentimento Twitter') # adicionando o título do gráfico\n",
    "plt.axis('equal')\n",
    "plt.show()"
   ]
  },
  {
   "cell_type": "code",
   "execution_count": 54,
   "metadata": {
    "colab": {},
    "colab_type": "code",
    "id": "Z0GVIJ2aV3Br"
   },
   "outputs": [],
   "source": [
    "geolocator = Nominatim(user_agent=\"TweeterSentiments\")\n",
    "\n",
    "latitude = []\n",
    "longitude = []\n",
    "\n",
    "for user_location in tweets_df['User Location']:\n",
    "    try:\n",
    "        location = geolocator.geocode(user_location)\n",
    "        latitude.append(location.latitude)\n",
    "        longitude.append(location.longitude)\n",
    "    except:\n",
    "        continue"
   ]
  },
  {
   "cell_type": "code",
   "execution_count": 55,
   "metadata": {
    "colab": {},
    "colab_type": "code",
    "id": "74wqBshPV3Bw",
    "outputId": "fcafc0f8-7bb8-4bff-a932-50d68bc04f64"
   },
   "outputs": [
    {
     "data": {
      "text/html": [
       "<div style=\"width:100%;\"><div style=\"position:relative;width:100%;height:0;padding-bottom:60%;\"><span style=\"color:#565656\">Make this Notebook Trusted to load map: File -> Trust Notebook</span><iframe src=\"about:blank\" style=\"position:absolute;width:100%;height:100%;left:0;top:0;border:none !important;\" data-html=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 onload=\"this.contentDocument.open();this.contentDocument.write(atob(this.getAttribute('data-html')));this.contentDocument.close();\" allowfullscreen webkitallowfullscreen mozallowfullscreen></iframe></div></div>"
      ],
      "text/plain": [
       "<folium.folium.Map at 0x1d680feddc0>"
      ]
     },
     "execution_count": 55,
     "metadata": {},
     "output_type": "execute_result"
    }
   ],
   "source": [
    "coordenadas = np.column_stack((latitude, longitude))\n",
    "\n",
    "mapa = folium.Map(location=[-15.788497,-47.879873],zoom_start=3.)\n",
    "\n",
    "mapa.add_child(plugins.HeatMap(coordenadas))\n",
    "mapa.save('TweetsQueimadas.html')\n",
    "mapa"
   ]
  },
  {
   "cell_type": "code",
   "execution_count": null,
   "metadata": {},
   "outputs": [],
   "source": []
  }
 ],
 "metadata": {
  "colab": {
   "collapsed_sections": [],
   "name": "Analise_Sentimento.ipynb",
   "provenance": [],
   "toc_visible": true
  },
  "kernelspec": {
   "display_name": "Python 3",
   "language": "python",
   "name": "python3"
  },
  "language_info": {
   "codemirror_mode": {
    "name": "ipython",
    "version": 3
   },
   "file_extension": ".py",
   "mimetype": "text/x-python",
   "name": "python",
   "nbconvert_exporter": "python",
   "pygments_lexer": "ipython3",
   "version": "3.8.3"
  }
 },
 "nbformat": 4,
 "nbformat_minor": 1
}
